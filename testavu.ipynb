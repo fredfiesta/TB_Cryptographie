{
 "cells": [
  {
   "cell_type": "code",
   "execution_count": 1,
   "metadata": {},
   "outputs": [
    {
     "name": "stdout",
     "output_type": "stream",
     "text": [
      "SHA256(tstsha256.txt)= 4705b42b125308fe04703d0ba4f94d5599bb2ed90614f920215dec6d515a9c8a\n"
     ]
    }
   ],
   "source": [
    "%%bash\n",
    "openssl dgst -sha256 -hex tstsha256.txt"
   ]
  },
  {
   "cell_type": "code",
   "execution_count": 22,
   "metadata": {},
   "outputs": [
    {
     "data": {
      "application/vnd.jupyter.widget-view+json": {
       "model_id": "adb2bf3225ae485191cb89ca92998e0b",
       "version_major": 2,
       "version_minor": 0
      },
      "text/plain": [
       "ToggleButtons(description='Fichiers:', options=('Alice.txt', 'Bob.txt', 'Marc.txt'), tooltips=(\"Le fichier d'A…"
      ]
     },
     "metadata": {},
     "output_type": "display_data"
    },
    {
     "name": "stdout",
     "output_type": "stream",
     "text": [
      "Bonne Réponse!\n",
      "\n",
      "Le fichier d'Alice n'a plus la même empreinte qu'à l'envoi. Il y a donc eu une modification du fichier.\n"
     ]
    }
   ],
   "source": [
    "import ipywidgets as widgets\n",
    "from IPython.display import display, HTML\n",
    "\n",
    "# Création des ToggleButtons\n",
    "toggle_buttons = widgets.ToggleButtons(\n",
    "    options=['Alice.txt', 'Bob.txt', 'Marc.txt'],\n",
    "    description='Fichiers:',\n",
    "    disabled=False,\n",
    "    button_style='', # 'success', 'info', 'warning', 'danger' or ''\n",
    "    tooltips=['Le fichier d\\'Alice a été modifié', 'Le fichier de Bob a été modifié', 'Le fichier de Marc a été modifié'],\n",
    "    icons=[],\n",
    "    value=None\n",
    ")\n",
    "\n",
    "# Fonction pour imprimer du texte en fonction de l'option sélectionnée\n",
    "def on_toggle_change(change):\n",
    "    if change['type'] == 'change' and change['name'] == 'value':\n",
    "        toggle_buttons.icons=['check','times', 'times']\n",
    "        if change['new'] == 'Alice.txt':\n",
    "            print(\"Bonne Réponse!\")\n",
    "        else:\n",
    "            print(\"Mauvaise réponse :(\")\n",
    "        print(\"\\nLe fichier d'Alice n'a plus la même empreinte qu'à l'envoi. Il y a donc eu une modification du fichier.\")\n",
    "\n",
    "# Liaison de la fonction avec l'événement \"observe\" des ToggleButtons\n",
    "toggle_buttons.observe(on_toggle_change)\n",
    "\n",
    "# Affichage des ToggleButtons\n",
    "display(toggle_buttons)\n"
   ]
  }
 ],
 "metadata": {
  "kernelspec": {
   "display_name": "Python 3",
   "language": "python",
   "name": "python3"
  },
  "language_info": {
   "codemirror_mode": {
    "name": "ipython",
    "version": 3
   },
   "file_extension": ".py",
   "mimetype": "text/x-python",
   "name": "python",
   "nbconvert_exporter": "python",
   "pygments_lexer": "ipython3",
   "version": "3.7.10"
  }
 },
 "nbformat": 4,
 "nbformat_minor": 4
}
