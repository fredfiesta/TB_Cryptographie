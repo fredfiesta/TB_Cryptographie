{
 "cells": [
  {
   "cell_type": "markdown",
   "metadata": {},
   "source": [
    "# Chiffrement de César\n",
    "\n",
    "Le chiffre de César ou chiffrement par décalage est une technique élémentaire de chiffrement par substitution. Inventé par Jules César, il a été utilisé dans l'Antiquité pour protéger des messages militaires confidentiels. Dans ce chiffrement, chaque lettre du message est décalée d'un certain nombre de positions dans l'alphabet.\n",
    "De nos jours, il n’est plus utilisé pour protéger les messages, mais permet cependant d’introduire les notions de base de la cryptographie.\n",
    "\n",
    "## Le fonctionnement\n",
    "Le chiffre de César fonctionne en substituant chaque lettre d'un message par une autre lettre décalée d'un nombre fixe de positions dans l'alphabet. Par exemple, avec un décalage de 3, la lettre \"A\" serait remplacée par \"D\", \"B\" par \"E\", et ainsi de suite. Ce processus de substitution est appliqué à chaque lettre du message, ce qui transforme le texte d'origine en un texte chiffré.\n",
    "<img src=\"../Images/cesar.png\" width=\"500\" height=\"300\">"
   ]
  },
  {
   "cell_type": "code",
   "execution_count": 30,
   "metadata": {
    "vscode": {
     "languageId": "python"
    }
   },
   "outputs": [],
   "source": [
    "import exercices_fonctions as ef\n",
    "file_path = \"../phrases.txt\""
   ]
  },
  {
   "cell_type": "markdown",
   "metadata": {},
   "source": [
    "## Exercice 1\n",
    "L'objectif de cet exercice est de chiffrer votre mot avec le chiffrement de César.\n",
    "Pour cela vous avez à disposition la fonction suivante :\n",
    "\n",
    "- shuffle_phrase(file_path) : qui permet de tirer au sort une phrase dans un fichier texte\n",
    "- func_enc_cesar(txt, cle) : permet de chiffrer un texte avec le chiffrement de César\n",
    "- func_random_cesar()  : qui permet de tirer au sort un nombre entier entre 1 et 25"
   ]
  },
  {
   "cell_type": "code",
   "execution_count": 31,
   "metadata": {
    "vscode": {
     "languageId": "python"
    }
   },
   "outputs": [],
   "source": [
    "# Exercice 1\n",
    "## Choisissez un mot et décalez les lettres comme bon vous semble"
   ]
  },
  {
   "cell_type": "code",
   "execution_count": 32,
   "metadata": {},
   "outputs": [],
   "source": [
    "# Pour Afficher la solution, enlevez le \"#\" du dessous\n",
    "# %load ../Soluce/soluce_cesar_1.py"
   ]
  },
  {
   "cell_type": "markdown",
   "metadata": {},
   "source": [
    "## Exercice 2\n",
    "Cet exercice a pour but de montrer comment un message encodé peut être décodé.\n",
    "Pour cela vous avez à disposition les fonctions suivantes :\n",
    "- func_enc_cesar(txt, cle) : qui permet de chiffrer un texte avec le chiffrement de César\n",
    "- func_random_cesar()  : qui permet de tirer au sort un nombre entier entre 1 et 25\n",
    "\n",
    "Avec les fonctions fournies, déchiffrez la phrase choisie aléatoirement, avec le chiffrement de César.\n",
    "\n",
    "La phrase est chiffrée avec un décalage de 17, trouvez le texte d'origine.\n"
   ]
  },
  {
   "cell_type": "code",
   "execution_count": 33,
   "metadata": {
    "vscode": {
     "languageId": "python"
    }
   },
   "outputs": [
    {
     "name": "stdout",
     "output_type": "stream",
     "text": [
      "CVJ FZJVRLO UV GRIRUZJ RZDVEK CR CLDZVIV MVIKV\n"
     ]
    }
   ],
   "source": [
    "# Exercice 2\n",
    "# La phrase aléatoire\n",
    "phrase = ef.shuffle_phrase_ex2(file_path)\n",
    "print(phrase)\n",
    "\n",
    "# Retrouvez la phrase d'origine\n"
   ]
  },
  {
   "cell_type": "code",
   "execution_count": 34,
   "metadata": {},
   "outputs": [],
   "source": [
    "# Pour Afficher la solution, enlevez le \"#\" du dessous\n",
    "# %load ../Soluce/soluce_cesar_2.py"
   ]
  },
  {
   "cell_type": "markdown",
   "metadata": {},
   "source": [
    "## Exercice 3"
   ]
  },
  {
   "cell_type": "markdown",
   "metadata": {},
   "source": [
    "Cet exercice a pour but de montrer les limites du chiffrement de César. Vous devez trouver la clé qui a été utilisée pour encoder les messages, parmis les 26 décalages présentés.\n",
    "\n",
    "Trouvez la clé qui a été utilisée pour encoder le message."
   ]
  },
  {
   "cell_type": "code",
   "execution_count": 38,
   "metadata": {
    "vscode": {
     "languageId": "python"
    }
   },
   "outputs": [
    {
     "name": "stdout",
     "output_type": "stream",
     "text": [
      "CV TFCZSIZ VJK LE FZJVRL IRIV  -> clé : 0\n",
      "BU SEBYRHY UIJ KD EYIUQK HQHU  -> clé : 1\n",
      "AT RDAXQGX THI JC DXHTPJ GPGT  -> clé : 2\n",
      "ZS QCZWPFW SGH IB CWGSOI FOFS  -> clé : 3\n",
      "YR PBYVOEV RFG HA BVFRNH ENER  -> clé : 4\n",
      "XQ OAXUNDU QEF GZ AUEQMG DMDQ  -> clé : 5\n",
      "WP NZWTMCT PDE FY ZTDPLF CLCP  -> clé : 6\n",
      "VO MYVSLBS OCD EX YSCOKE BKBO  -> clé : 7\n",
      "UN LXURKAR NBC DW XRBNJD AJAN  -> clé : 8\n",
      "TM KWTQJZQ MAB CV WQAMIC ZIZM  -> clé : 9\n",
      "SL JVSPIYP LZA BU VPZLHB YHYL  -> clé : 10\n",
      "RK IUROHXO KYZ AT UOYKGA XGXK  -> clé : 11\n",
      "QJ HTQNGWN JXY ZS TNXJFZ WFWJ  -> clé : 12\n",
      "PI GSPMFVM IWX YR SMWIEY VEVI  -> clé : 13\n",
      "OH FROLEUL HVW XQ RLVHDX UDUH  -> clé : 14\n",
      "NG EQNKDTK GUV WP QKUGCW TCTG  -> clé : 15\n",
      "MF DPMJCSJ FTU VO PJTFBV SBSF  -> clé : 16\n",
      "LE COLIBRI EST UN OISEAU RARE  -> clé : 17\n",
      "KD BNKHAQH DRS TM NHRDZT QZQD  -> clé : 18\n",
      "JC AMJGZPG CQR SL MGQCYS PYPC  -> clé : 19\n",
      "IB ZLIFYOF BPQ RK LFPBXR OXOB  -> clé : 20\n",
      "HA YKHEXNE AOP QJ KEOAWQ NWNA  -> clé : 21\n",
      "GZ XJGDWMD ZNO PI JDNZVP MVMZ  -> clé : 22\n",
      "FY WIFCVLC YMN OH ICMYUO LULY  -> clé : 23\n",
      "EX VHEBUKB XLM NG HBLXTN KTKX  -> clé : 24\n",
      "DW UGDATJA WKL MF GAKWSM JSJW  -> clé : 25\n"
     ]
    }
   ],
   "source": [
    "txt = ef.shuffle_phrase(file_path)\n",
    "txt_enc = ef.func_enc_cesar(txt, ef.func_random_cesar())\n",
    "\n",
    "for i in range(26):\n",
    "    dc = ef.func_dec_cesar(txt_enc,i)\n",
    "    print(dc, \" -> clé :\",i)"
   ]
  }
 ],
 "metadata": {
  "celltoolbar": "Tags",
  "kernelspec": {
   "display_name": "SageMath 9.3",
   "language": "sage",
   "name": "sagemath"
  }
 },
 "nbformat": 4,
 "nbformat_minor": 4
}
