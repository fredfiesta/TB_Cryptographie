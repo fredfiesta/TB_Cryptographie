{
 "cells": [
  {
   "cell_type": "markdown",
   "metadata": {},
   "source": [
    "# Hachage\n",
    "Le hachage est un concept fondamental de la cryptographie et de la sécurité informatique. Il s'agit d'un processus par lequel les données sont transformées en une empreinte numérique de taille fixe, généralement sous forme de chaîne de caractères hexadécimaux. Cette empreinte, appelée \"hash\", est normalement unique pour chaque ensemble de données en entrée et est calculée de manière à ce qu'il soit extrêmement difficile de déterminer les données d'origine à partir de l'empreinte. Les fonctions de hachage sont utilisées pour sécuriser les données, vérifier l'intégrité des fichiers, créer des empreintes digitales de messages, et plus encore.\n",
    "\n",
    "<img src=\"../Images/hachage.png\" title=\"simplilearn.com Message-Digest Algorithm 5: Overview and How Does it Work?\">\n",
    "\n",
    "## MD5\n",
    "Le MD5 ou message digest 5, est un algorithme de hachage couramment utilisé pour créer une empreinte numérique d'un message. Cette empreinte a une taille fixe de 128 bits et est représentée par une chaîne hexadécimale de 32 caractères. Le MD5 était rapide et pratique pour de nombreuses applications, comme la vérification d'intégrité des données et la gestion de mots de passe. Cependant, en raison de ses vulnérabilités, notamment la possibilité de collisions, où deux messages différents peuvent avoir la même empreinte, le MD5 n'est plus considéré comme sûr pour les applications de sécurité.\n",
    "### Le fonctionnement\n",
    "Dans le tableau ci-dessous nous pouvons voir le principe du MD5. Un message, peu importe la similarité à un autre aura, généralement, une empreinte unique d’une taille finie(128bits, 32 caractères hexadécimaux).\n",
    "\n",
    "| Message en clair | Valeur en MD5 |\n",
    "|:--------|:--------|\n",
    "|  Cryptographie   |  3071a3f52819e57de1740f5286297737   |\n",
    "|  cryptographie   |  F1bd003f7df56250d3f277b81e97218c   |\n",
    "|  cryptographi   |   3ead97b23d75404e9e4880adc6533608   |\n",
    "\n",
    "\n"
   ]
  },
  {
   "cell_type": "code",
   "execution_count": 1,
   "metadata": {},
   "outputs": [],
   "source": [
    "import exercices_fonctions as ef"
   ]
  },
  {
   "cell_type": "markdown",
   "metadata": {},
   "source": [
    "### Exercice 1\n",
    "\n",
    "Nous avons reçu 3 fichiers de 3 personnes différentes. Alice, Bob et Marc nous ont chacun envoyé un fichier .txt et son empreinte en MD5.\n",
    "\n",
    "Cependant, lors de l'envoi, une personne mal intentionnée a altéré l'un des fichier. Votre objectif est de trouver lequel de ces fichiers l'a été.\n",
    "\n",
    "Nos correspondants nous indiques que leurs fichiers avaient les empreintes suivantes à l'envoi:\n",
    "<br>\n",
    "\n",
    "|  |  |\n",
    "| :-------- | :-------- |\n",
    "|  Alice   |  b140ad332e68c35c88680f92dd6264f1   |\n",
    "|  Bob   |  ca18e37e51edbbd26f2373311595218a   |\n",
    "|  Marc   |  9b6b49d07298b71f3b99c2892494a8f4   |\n",
    "\n",
    "L'objectif de cet exercice est de comprendre l'utilité du hachage et des empreintes de fichier, **trouvez le fichier qui a été modifié, puis sélectionnez la bonne réponse**.\n",
    "\n",
    "\n",
    "Pour cela, vous avez accès à la fonction suivante:\n",
    "- func_hash_md5(path): permet d'obtenir l'empreinte MD5 d'un fichier en entrée\n",
    "\n",
    "Les documents à vérifier sont aux chemins suivants:\n",
    "- Fichiers/Hachage/Alice.txt\n",
    "- Fichiers/Hachage/Bob.txt\n",
    "- Fichiers/Hachage/Marc.txt\n",
    "\n"
   ]
  },
  {
   "cell_type": "code",
   "execution_count": 2,
   "metadata": {},
   "outputs": [],
   "source": [
    "# Exercice 1\n",
    "# Vérifiez les fichiers reçus\n",
    "path = 'Fichiers/Hachage/...'\n",
    "\n",
    "# Votre code\n",
    "\n"
   ]
  },
  {
   "cell_type": "code",
   "execution_count": 3,
   "metadata": {},
   "outputs": [
    {
     "name": "stdout",
     "output_type": "stream",
     "text": [
      "Lequel de ces fichiers à été modifié?\n"
     ]
    },
    {
     "data": {
      "application/vnd.jupyter.widget-view+json": {
       "model_id": "c19f9c1e30e940f9bf017816021ebc8e",
       "version_major": 2,
       "version_minor": 0
      },
      "text/plain": [
       "ToggleButtons(button_style='info', description='Fichiers:', options=('Alice.txt', 'Bob.txt', 'Marc.txt'), tool…"
      ]
     },
     "metadata": {},
     "output_type": "display_data"
    }
   ],
   "source": [
    "# Sélectionnez la bonne réponse\n",
    "ef.pro_display_md5()"
   ]
  }
 ],
 "metadata": {
  "kernelspec": {
   "display_name": "SageMath 9.3",
   "language": "sage",
   "name": "sagemath"
  },
  "language_info": {
   "codemirror_mode": {
    "name": "ipython",
    "version": 3
   },
   "file_extension": ".py",
   "mimetype": "text/x-python",
   "name": "python",
   "nbconvert_exporter": "python",
   "pygments_lexer": "ipython3",
   "version": "3.7.10"
  }
 },
 "nbformat": 4,
 "nbformat_minor": 4
}
