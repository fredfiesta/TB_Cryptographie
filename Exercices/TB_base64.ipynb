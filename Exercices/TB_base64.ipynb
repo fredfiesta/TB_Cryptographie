{
 "cells": [
  {
   "cell_type": "markdown",
   "metadata": {},
   "source": [
    "# Base64\n",
    "Le Base64 est une méthode d'encodage qui permet de représenter des données binaires sous forme de texte lisible. Il utilise un ensemble de 64 caractères ASCII pour convertir des groupes de trois octets en quatre caractères. Bien qu'il ne fournisse pas de sécurité, il est souvent utilisé pour transmettre des images ou des fichiers via des protocoles qui ne supportent pas tous les caractères spéciaux. Le Base64 est largement utilisé dans les communications en ligne pour faciliter le transfert de données binaires sous forme de texte\n",
    "\n",
    "## Le fonctionnement\n",
    "Le Base64 repose sur la conversion des données binaires en groupes de trois octets (24 bits). Chaque groupe est ensuite transformé en une série de quatre caractères ASCII. Si le nombre total d'octets n'est pas un multiple de trois, des octets nuls sont ajoutés pour atteindre cette taille.\n",
    "Ci-dessous, nous pouvons voir un tableau représentant l’alphabet du base64, où chaque lettre est représentée en binaire par 6 octets et non les 8 habituels.\n",
    "\n",
    "<img src=\"../Images/base64.png\">\n",
    "\n",
    "Pour notre exemple, prenons le mot :\n",
    "\n",
    "> Cryptographie\n",
    "\n",
    "Afin de simplifier l’explication, reprenons le début du mot :\n",
    "\n",
    "> Cry\n",
    "\n",
    "Le **C**, est représenté dans la table ASCII par le numéro décimal **67**.\n",
    "Le **r**, est représenté par le **114**.\n",
    "Et finalement le **y**, par le **121**.\n",
    "La représentation binaire de cette chaine de caractère donne les 3 octets suivants :\n",
    "\n",
    "> 01000011 01110010 01111001\n",
    "\n",
    "Les 3 octets sont transformés en 4 sextets :\n",
    "\n",
    "> 010000 110111 001001 111001\n",
    "\n",
    "Ce qui nous donne respectivement **16**, **55**, **9** et **57**.\n",
    "Dans le tableau de l’alphabet Base64, cela nous donne **Q**, **3**, **J** et **5**.\n",
    "\n",
    "<img src=\"../Images/base64_exemple.png\">\n"
   ]
  },
  {
   "cell_type": "code",
   "execution_count": 1,
   "metadata": {},
   "outputs": [],
   "source": [
    "import exercices_fonctions as ef"
   ]
  },
  {
   "cell_type": "markdown",
   "metadata": {},
   "source": [
    "## Exercice 1\n",
    "\n",
    "L'objectif de cet exercice est d'améliorer la compréhension du Base64.\n",
    "Pour cela, vous avez accès à la fonciton suivante :\n",
    "- func_string_to_binary(texte): permet de transformer une chaine de caractère en binaire\n",
    "\n",
    "A l'aide du tableau ci-dessous, encodez le mot de votre choix en Base64.\n",
    "<br>\n",
    "<br>\n",
    "Puis, à l'aide de la fonction suivante, vérifiez votre résultat:\n",
    "\n",
    "- func_enc_base64(texte): permet d'encoder votre mot en Base64\n",
    "\n",
    "<img src=\"../Images/base64.png\" width=\"490\" height=\"500\">\n"
   ]
  },
  {
   "cell_type": "code",
   "execution_count": 2,
   "metadata": {
    "source_hidden": true
   },
   "outputs": [],
   "source": [
    "# Exercice 1\n",
    "## Transformation de votre mot en binaire\n",
    "mot=\"\"\n",
    "\n",
    "\n",
    "## Vérification\n",
    "\n",
    "\n"
   ]
  },
  {
   "cell_type": "code",
   "execution_count": 3,
   "metadata": {},
   "outputs": [
    {
     "data": {
      "application/vnd.jupyter.widget-view+json": {
       "model_id": "1c48e4ff810e4963a8b8ba66d7cc9e68",
       "version_major": 2,
       "version_minor": 0
      },
      "text/plain": [
       "Button(button_style='info', description='Afficher la solution', style=ButtonStyle())"
      ]
     },
     "metadata": {},
     "output_type": "display_data"
    }
   ],
   "source": [
    "# Cliquez pour afficher la solution\n",
    "ef.pro_display_base64()"
   ]
  }
 ],
 "metadata": {
  "celltoolbar": "Aucun(e)",
  "kernelspec": {
   "display_name": "SageMath 9.3",
   "language": "sage",
   "name": "sagemath"
  },
  "language_info": {
   "codemirror_mode": {
    "name": "ipython",
    "version": 3
   },
   "file_extension": ".py",
   "mimetype": "text/x-python",
   "name": "python",
   "nbconvert_exporter": "python",
   "pygments_lexer": "ipython3",
   "version": "3.7.10"
  }
 },
 "nbformat": 4,
 "nbformat_minor": 4
}
