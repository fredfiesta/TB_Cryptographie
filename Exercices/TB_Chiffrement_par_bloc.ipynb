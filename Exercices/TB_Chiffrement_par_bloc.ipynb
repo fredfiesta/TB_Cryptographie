{
 "cells": [
  {
   "cell_type": "markdown",
   "metadata": {},
   "source": [
    "# Chiffrement par bloc\n",
    "Nous allons parler du CBC (Cipher Block Chaining) et le ECB (Electronic Codebook) deux méthodes parmi plusieurs, de chiffrement par bloc. Le chiffrement par bloc est une méthode de cryptage qui divise les données en petits blocs de taille fixe, puis applique une transformation cryptographique à ces blocs.\n",
    "\n",
    "Le mode ECB, le plus simple des deux est basé sur le principe de diviser les données en blocs fixes, puis de les chiffrer indépendamment les uns des autres. Cette simplicité a contribué à sa popularité, mais elle présente des inconvénients en termes de sécurité, car les mêmes blocs de données se traduisent toujours par les mêmes blocs chiffrés, révélant des motifs.\n",
    "\n",
    "Le CBC est apparu précisément comme une réponse à ces vulnérabilités. Il a été développé pour introduire une couche de complexité et de sécurité supplémentaire à l’ECB. Dans le CBC, chaque bloc chiffré dépend du bloc précédent, formant ainsi une « chaîne » de chiffrement. Cette approche ajoute une dimension de diffusion, garantissant que des données identiques chiffrées produisent des sorties différentes, améliorant considérablement la sécurité. Les paternes pouvant être perçus avec l’ECB ne le sont plus avec le CBC.\n",
    "\n",
    "Comprendre la différence de fonctionnement entre ECB et CBC permet de mettre en exergue, l’importance de bien choisir un mode, un outils en fonction de notre besoin.\n",
    "## Exemple\n",
    "Voici un exemple commun illustrant la différence entre l’ECB et le CBC, entre chiffrer les blocs indépendamment des autres et à la chaine.\n",
    "\n",
    "<img src=\"../Images/ECB_CBC.jpg\">\n",
    "\n",
    "## Fonctionnement ECB\n",
    "L’ECB a 3 étapes:\n",
    "### Division en blocs\n",
    "Les données à chiffrer sont divisées en blocs de taille fixe (par exemple, 128 bits).\n",
    "### Chiffrement indépendant\n",
    "Chaque bloc est chiffré indépendamment en utilisant une clé de chiffrement. Chaque bloc est traité de manière isolée, sans tenir compte des autres blocs.\n",
    "### Concaténation des blocs chiffrés\n",
    "Les blocs chiffrés sont ensuite concaténés pour former le message chiffré. L'ordre des blocs reste le même que dans les données d'entrée.\n",
    "\n",
    "<img src=\"../Images/ECB.png\">\n",
    "\n",
    "## Fonctionnement CBC\n",
    "Le CBC a 4 étapes:\n",
    "### Division en blocs\n",
    "Les données à chiffrer sont divisées en blocs de taille fixe, généralement 128 bits (16 octets).\n",
    "### Initialisation du vecteur d'initialisation (IV)\n",
    "Un vecteur d'initialisation aléatoire est généré. L'IV est XORé avec le premier bloc de données avant le chiffrement. Cela signifie que nous prenons, l’IV et le premier bloc bit par bit. Puis, nous les additionnons avec un XOR.\n",
    "L’IV a un bit de 1 et le premier bloc a un bit de 0 (ou vice versa), cela donne 1.\n",
    "Si l’IV et le bloc ont un bit identique, cela donne 0.\n",
    "\n",
    "| A | B | Résultats |\n",
    "|:--------:|:--------:|:--------:|\n",
    "|  0   |  0   |  1   |\n",
    "|  1   |  0   |  0   |\n",
    "|  0   |  1   |  0   |\n",
    "|  1   |  1   |  1   |\n",
    "\n",
    "### Chiffrement en chaîne\n",
    "Chaque bloc de données est chiffré en utilisant un algorithme de chiffrement symétrique, tel que l'AES. Le résultat du chiffrement est XORé avec le bloc de données suivant.\n",
    "### Transmission de l'IV\n",
    "A la fin, l'IV est transmis avec le message chiffré ou stocké de manière sécurisée, car il sera nécessaire pour la déchiffrement.\n",
    "\n",
    "<img src=\"../Images/CBC.png\">\n"
   ]
  },
  {
   "cell_type": "markdown",
   "metadata": {},
   "source": [
    "## Démonstration\n",
    "Cette partie a pour but de montrer les particularités du chiffrement par bloc.\n",
    "La première cellule de code chiffre des données en AES en suivant la méthode du mode ECB.\n",
    "La deuxième cellule chiffre également les données en AES mais en suivant la méthode du mode CBC.\n",
    "\n",
    "Le texte chiffré est composé dans les 2 cas de caractères se répétant, des \"A\" et des \"B\", cela a pour but de montrer clairement la façon dont les 2 méthodes traitent les blocs."
   ]
  },
  {
   "cell_type": "code",
   "execution_count": 15,
   "metadata": {},
   "outputs": [
    {
     "name": "stdout",
     "output_type": "stream",
     "text": [
      "192 octets\n",
      "prFvqzX03dqM43Rqd1mFWqaxb6s19N3ajON0andZhVqmsW+rNfTd2ozjdGp3WYVa\n",
      "Fuz5+78naXx/VStz4UyXVBbs+fu/J2l8f1Urc+FMl1QW7Pn7vydpfH9VK3PhTJdU\n",
      "prFvqzX03dqM43Rqd1mFWqaxb6s19N3ajON0andZhVqmsW+rNfTd2ozjdGp3WYVa\n",
      "Fuz5+78naXx/VStz4UyXVBbs+fu/J2l8f1Urc+FMl1QW7Pn7vydpfH9VK3PhTJdU\n"
     ]
    }
   ],
   "source": [
    "import exercices_fonctions as ef\n",
    "texte_clair = \"AAAAAAAAAAAAAAAAAAAAAAAAAAAAAAAAAAAAAAAAAAAAAAAABBBBBBBBBBBBBBBBBBBBBBBBBBBBBBBBBBBBBBBBBBBBBBBBAAAAAAAAAAAAAAAAAAAAAAAAAAAAAAAAAAAAAAAAAAAAAAAABBBBBBBBBBBBBBBBBBBBBBBBBBBBBBBBBBBBBBBBBBBBBBBB\"\n",
    "\n",
    "# ECB\n",
    "texte_enc = ef.func_enc_ecb(texte_clair)\n",
    "print(texte_enc)"
   ]
  },
  {
   "cell_type": "code",
   "execution_count": 16,
   "metadata": {
    "scrolled": true
   },
   "outputs": [
    {
     "name": "stdout",
     "output_type": "stream",
     "text": [
      "192 octets\n",
      "FT2tzDsMIsjoiLdtMRIEIB3ZEjd5H8I6fOM+XuWt1Z7zj1nc0HTdZGltVJkDhYDt\n",
      "UYXYAnhw0tXTP5r6vm/js6NDng6lFjnMzp+CyUAWHpExf4QjhaFp2tEhlQ5KzI5N\n",
      "UNIPP7Rg/BzvQ+4uMl4ECCdrlvfTzCO17XudrR801L8dPsuOeARY+HllH9BCNL6c\n",
      "0YIyTlWvGCJdd7Txiqv6xKBcXAgnmMzn9yuMXHIq/p6AKE85I7u29hqZa2CKfBtK\n"
     ]
    }
   ],
   "source": [
    "#CBC\n",
    "texte_enc = ef.func_enc_cbc(texte_clair)\n",
    "print(texte_enc)"
   ]
  }
 ],
 "metadata": {
  "kernelspec": {
   "display_name": "SageMath 9.3",
   "language": "sage",
   "name": "sagemath"
  },
  "language_info": {
   "codemirror_mode": {
    "name": "ipython",
    "version": 3
   },
   "file_extension": ".py",
   "mimetype": "text/x-python",
   "name": "python",
   "nbconvert_exporter": "python",
   "pygments_lexer": "ipython3",
   "version": "3.7.10"
  }
 },
 "nbformat": 4,
 "nbformat_minor": 4
}
