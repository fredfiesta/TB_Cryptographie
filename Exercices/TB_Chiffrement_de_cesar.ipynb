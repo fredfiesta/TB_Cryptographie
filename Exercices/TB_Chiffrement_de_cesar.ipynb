{
 "cells": [
  {
   "cell_type": "markdown",
   "metadata": {},
   "source": [
    "# Chiffrement de César\n",
    "\n",
    "Le chiffre de César ou chiffrement par décalage est une technique élémentaire de chiffrement par substitution. Inventé par Jules César, il a été utilisé dans l'Antiquité pour protéger des messages militaires confidentiels. Dans ce chiffrement, chaque lettre du message est décalée d'un certain nombre de positions dans l'alphabet.\n",
    "De nos jours, il n’est plus utilisé pour protéger les messages, mais permet cependant d’introduire les notions de base de la cryptographie.\n",
    "\n",
    "## Le fonctionnement\n",
    "Le chiffre de César fonctionne en substituant chaque lettre d'un message par une autre lettre décalée d'un nombre fixe de positions dans l'alphabet. Par exemple, avec un décalage de 3, la lettre \"A\" serait remplacée par \"D\", \"B\" par \"E\", et ainsi de suite. Ce processus de substitution est appliqué à chaque lettre du message, ce qui transforme le texte d'origine en un texte chiffré.\n",
    "<img src=\"../Images/cesar.png\" width=\"500\" height=\"300\">"
   ]
  },
  {
   "cell_type": "code",
   "execution_count": 1,
   "metadata": {
    "vscode": {
     "languageId": "python"
    }
   },
   "outputs": [],
   "source": [
    "import exercices_fonctions as ef"
   ]
  },
  {
   "cell_type": "markdown",
   "metadata": {},
   "source": [
    "## Exercice 1\n",
    "L'objectif de cet exercice est de chiffrer votre mot avec le chiffrement de César.\n",
    "Pour cela, vous avez à disposition les fonctions suivantes :\n",
    "\n",
    "Vous pouvez appeler les fonctions en les précédant du module **ef**.\n",
    "> ef.shuffle_phrase()\n",
    "\n",
    "- shuffle_phrase() : permet de tirer au sort une phrase dans un fichier texte\n",
    "- func_enc_cesar(txt, cle) : permet de chiffrer un texte avec le chiffrement de César\n",
    "- func_random_cesar()  : permet de tirer au sort un nombre entier entre 1 et 25"
   ]
  },
  {
   "cell_type": "code",
   "execution_count": 2,
   "metadata": {
    "vscode": {
     "languageId": "python"
    }
   },
   "outputs": [],
   "source": [
    "# Exercice 1\n",
    "## Choisissez un mot et décalez les lettres comme bon vous semble"
   ]
  },
  {
   "cell_type": "code",
   "execution_count": 3,
   "metadata": {},
   "outputs": [
    {
     "data": {
      "application/vnd.jupyter.widget-view+json": {
       "model_id": "92e94629c93f4caf93412a0f8a0e3dfb",
       "version_major": 2,
       "version_minor": 0
      },
      "text/plain": [
       "Button(button_style='info', description='Afficher la solution', style=ButtonStyle())"
      ]
     },
     "metadata": {},
     "output_type": "display_data"
    }
   ],
   "source": [
    "# Cliquez sur le bouton pour afficher la solution\n",
    "ef.pro_display_cesar_1()"
   ]
  },
  {
   "cell_type": "markdown",
   "metadata": {},
   "source": [
    "## Exercice 2\n",
    "Cet exercice a pour but de montrer comment un message encodé peut être décodé.\n",
    "Pour cela, vous avez à disposition les fonctions suivantes :\n",
    "- func_enc_cesar(txt, cle) : permet de chiffrer un texte avec le chiffrement de César\n",
    "- func_random_cesar()  : permet de tirer au sort un nombre entier entre 1 et 25\n",
    "\n",
    "Avec les fonctions fournies, déchiffrez la phrase choisie aléatoirement, avec le chiffrement de César.\n",
    "\n",
    "La phrase est chiffrée avec un décalage de 17, trouvez le texte d'origine.\n"
   ]
  },
  {
   "cell_type": "code",
   "execution_count": 4,
   "metadata": {
    "vscode": {
     "languageId": "python"
    }
   },
   "outputs": [
    {
     "name": "stdout",
     "output_type": "stream",
     "text": [
      "SIZXRUZVQ JZT MFLJ RMVQ IRZJFE\n"
     ]
    }
   ],
   "source": [
    "# Exercice 2\n",
    "# La phrase aléatoire\n",
    "phrase = ef.shuffle_phrase_ex2()\n",
    "print(phrase)\n",
    "\n",
    "# Retrouvez la phrase d'origine\n"
   ]
  },
  {
   "cell_type": "code",
   "execution_count": 5,
   "metadata": {},
   "outputs": [
    {
     "data": {
      "application/vnd.jupyter.widget-view+json": {
       "model_id": "45e9e598bbe4439eb6a233a649f407c8",
       "version_major": 2,
       "version_minor": 0
      },
      "text/plain": [
       "Button(button_style='info', description='Afficher la solution', style=ButtonStyle())"
      ]
     },
     "metadata": {},
     "output_type": "display_data"
    }
   ],
   "source": [
    "# Cliquez sur le bouton pour afficher la solution\n",
    "ef.pro_display_cesar_2()"
   ]
  },
  {
   "cell_type": "markdown",
   "metadata": {},
   "source": [
    "## Exercice 3\n",
    "Cet exercice a pour but de montrer les limites du chiffrement de César. Vous devez trouver la clé qui a été utilisée pour encoder les messages, parmi les 26 décalages présentés.\n",
    "\n",
    "Trouvez la clé qui a été utilisée pour encoder le message."
   ]
  },
  {
   "cell_type": "code",
   "execution_count": 6,
   "metadata": {
    "vscode": {
     "languageId": "python"
    }
   },
   "outputs": [
    {
     "name": "stdout",
     "output_type": "stream",
     "text": [
      "U JWPDRUUN NBC JYYJCNN  -> clé : 0\n",
      "T IVOCQTTM MAB IXXIBMM  -> clé : 1\n",
      "S HUNBPSSL LZA HWWHALL  -> clé : 2\n",
      "R GTMAORRK KYZ GVVGZKK  -> clé : 3\n",
      "Q FSLZNQQJ JXY FUUFYJJ  -> clé : 4\n",
      "P ERKYMPPI IWX ETTEXII  -> clé : 5\n",
      "O DQJXLOOH HVW DSSDWHH  -> clé : 6\n",
      "N CPIWKNNG GUV CRRCVGG  -> clé : 7\n",
      "M BOHVJMMF FTU BQQBUFF  -> clé : 8\n",
      "L ANGUILLE EST APPATEE  -> clé : 9\n",
      "K ZMFTHKKD DRS ZOOZSDD  -> clé : 10\n",
      "J YLESGJJC CQR YNNYRCC  -> clé : 11\n",
      "I XKDRFIIB BPQ XMMXQBB  -> clé : 12\n",
      "H WJCQEHHA AOP WLLWPAA  -> clé : 13\n",
      "G VIBPDGGZ ZNO VKKVOZZ  -> clé : 14\n",
      "F UHAOCFFY YMN UJJUNYY  -> clé : 15\n",
      "E TGZNBEEX XLM TIITMXX  -> clé : 16\n",
      "D SFYMADDW WKL SHHSLWW  -> clé : 17\n",
      "C REXLZCCV VJK RGGRKVV  -> clé : 18\n",
      "B QDWKYBBU UIJ QFFQJUU  -> clé : 19\n",
      "A PCVJXAAT THI PEEPITT  -> clé : 20\n",
      "Z OBUIWZZS SGH ODDOHSS  -> clé : 21\n",
      "Y NATHVYYR RFG NCCNGRR  -> clé : 22\n",
      "X MZSGUXXQ QEF MBBMFQQ  -> clé : 23\n",
      "W LYRFTWWP PDE LAALEPP  -> clé : 24\n",
      "V KXQESVVO OCD KZZKDOO  -> clé : 25\n"
     ]
    },
    {
     "data": {
      "application/vnd.jupyter.widget-view+json": {
       "model_id": "85e168a853d24adda71dbe17b8177d1b",
       "version_major": 2,
       "version_minor": 0
      },
      "text/plain": [
       "HBox(children=(IntText(value=0, description='Clé'), Button(button_style='success', description='Valider', styl…"
      ]
     },
     "metadata": {},
     "output_type": "display_data"
    }
   ],
   "source": [
    "# Ne modifiez pas le code\n",
    "nb_rand = ef.func_random_cesar()\n",
    "txt = ef.shuffle_phrase()\n",
    "txt_enc = ef.func_enc_cesar(txt, nb_rand)\n",
    "for i in range(26):\n",
    "    dc = ef.func_dec_cesar(txt_enc,i)\n",
    "    print(dc, \" -> clé :\",i)\n",
    "ef.pro_display_cesar_3(nb_rand)"
   ]
  }
 ],
 "metadata": {
  "celltoolbar": "Aucun(e)",
  "kernelspec": {
   "display_name": "SageMath 9.3",
   "language": "sage",
   "name": "sagemath"
  },
  "language_info": {
   "codemirror_mode": {
    "name": "ipython",
    "version": 3
   },
   "file_extension": ".py",
   "mimetype": "text/x-python",
   "name": "python",
   "nbconvert_exporter": "python",
   "pygments_lexer": "ipython3",
   "version": "3.7.10"
  }
 },
 "nbformat": 4,
 "nbformat_minor": 4
}
