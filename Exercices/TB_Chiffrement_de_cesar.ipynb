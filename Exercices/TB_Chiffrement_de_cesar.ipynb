{
 "cells": [
  {
   "cell_type": "markdown",
   "metadata": {},
   "source": [
    "# Chiffrement de César\n",
    "\n",
    "Le chiffre de César ou chiffrement par décalage est une technique élémentaire de chiffrement par substitution. Inventé par Jules César, il a été utilisé dans l'Antiquité pour protéger des messages militaires confidentiels. Dans ce chiffrement, chaque lettre du message est décalée d'un certain nombre de positions dans l'alphabet.\n",
    "De nos jours, il n’est plus utilisé pour protéger les messages, mais permet cependant d’introduire les notions de base de la cryptographie.\n",
    "\n",
    "## Le fonctionnement\n",
    "Le chiffre de César fonctionne en substituant chaque lettre d'un message par une autre lettre décalée d'un nombre fixe de positions dans l'alphabet. Par exemple, avec un décalage de 3, la lettre \"A\" serait remplacée par \"D\", \"B\" par \"E\", et ainsi de suite. Ce processus de substitution est appliqué à chaque lettre du message, ce qui transforme le texte d'origine en un texte chiffré.\n",
    "<img src=\"../Images/cesar.png\" width=\"500\" height=\"300\">"
   ]
  },
  {
   "cell_type": "code",
   "execution_count": 7,
   "metadata": {
    "vscode": {
     "languageId": "python"
    }
   },
   "outputs": [],
   "source": [
    "import exercices_fonctions as ef"
   ]
  },
  {
   "cell_type": "markdown",
   "metadata": {},
   "source": [
    "## Exercice 1\n",
    "L'objectif de cet exercice est de chiffrer votre mot avec le chiffrement de César.\n",
    "Pour cela vous avez à disposition les fonctions suivantes :\n",
    "\n",
    "Vous pouvez appeler les fonctions en les précédant du module **ef**.\n",
    "> ef.shuffle_phrase()\n",
    "\n",
    "- shuffle_phrase() : permet de tirer au sort une phrase dans un fichier texte\n",
    "- func_enc_cesar(txt, cle) : permet de chiffrer un texte avec le chiffrement de César\n",
    "- func_random_cesar()  : permet de tirer au sort un nombre entier entre 1 et 25"
   ]
  },
  {
   "cell_type": "code",
   "execution_count": 8,
   "metadata": {
    "vscode": {
     "languageId": "python"
    }
   },
   "outputs": [],
   "source": [
    "# Exercice 1\n",
    "## Choisissez un mot et décalez les lettres comme bon vous semble"
   ]
  },
  {
   "cell_type": "code",
   "execution_count": 9,
   "metadata": {},
   "outputs": [
    {
     "data": {
      "application/vnd.jupyter.widget-view+json": {
       "model_id": "a4fbfd2081034ff7a42a54e15d05d055",
       "version_major": 2,
       "version_minor": 0
      },
      "text/plain": [
       "Button(button_style='info', description='Afficher la solution', style=ButtonStyle())"
      ]
     },
     "metadata": {},
     "output_type": "display_data"
    }
   ],
   "source": [
    "# Cliquez sur le bouton pour afficher la solution\n",
    "ef.pro_display_cesar_1()"
   ]
  },
  {
   "cell_type": "markdown",
   "metadata": {},
   "source": [
    "## Exercice 2\n",
    "Cet exercice a pour but de montrer comment un message encodé peut être décodé.\n",
    "Pour cela vous avez à disposition les fonctions suivantes :\n",
    "- func_enc_cesar(txt, cle) : permet de chiffrer un texte avec le chiffrement de César\n",
    "- func_random_cesar()  : permet de tirer au sort un nombre entier entre 1 et 25\n",
    "\n",
    "Avec les fonctions fournies, déchiffrez la phrase choisie aléatoirement, avec le chiffrement de César.\n",
    "\n",
    "La phrase est chiffrée avec un décalage de 17, trouvez le texte d'origine.\n"
   ]
  },
  {
   "cell_type": "code",
   "execution_count": 10,
   "metadata": {
    "vscode": {
     "languageId": "python"
    }
   },
   "outputs": [
    {
     "name": "stdout",
     "output_type": "stream",
     "text": [
      "CVJ JRLKVIVCCVJ RIIZMVEK GRI DZCCZVIJ\n"
     ]
    }
   ],
   "source": [
    "# Exercice 2\n",
    "# La phrase aléatoire\n",
    "phrase = ef.shuffle_phrase_ex2()\n",
    "print(phrase)\n",
    "\n",
    "# Retrouvez la phrase d'origine\n"
   ]
  },
  {
   "cell_type": "code",
   "execution_count": 11,
   "metadata": {},
   "outputs": [
    {
     "data": {
      "application/vnd.jupyter.widget-view+json": {
       "model_id": "84cc5b1f76fe42859735bce4d83b81cc",
       "version_major": 2,
       "version_minor": 0
      },
      "text/plain": [
       "Button(button_style='info', description='Afficher la solution', style=ButtonStyle())"
      ]
     },
     "metadata": {},
     "output_type": "display_data"
    }
   ],
   "source": [
    "# Cliquez sur le bouton pour afficher la solution\n",
    "ef.pro_display_cesar_2()"
   ]
  },
  {
   "cell_type": "markdown",
   "metadata": {},
   "source": [
    "## Exercice 3\n",
    "Cet exercice a pour but de montrer les limites du chiffrement de César. Vous devez trouver la clé qui a été utilisée pour encoder les messages, parmi les 26 décalages présentés.\n",
    "\n",
    "Trouvez la clé qui a été utilisée pour encoder le message."
   ]
  },
  {
   "cell_type": "code",
   "execution_count": 12,
   "metadata": {
    "vscode": {
     "languageId": "python"
    }
   },
   "outputs": [
    {
     "name": "stdout",
     "output_type": "stream",
     "text": [
      "DW JGA WKL TAWF SJJANW  -> clé : 0\n",
      "CV IFZ VJK SZVE RIIZMV  -> clé : 1\n",
      "BU HEY UIJ RYUD QHHYLU  -> clé : 2\n",
      "AT GDX THI QXTC PGGXKT  -> clé : 3\n",
      "ZS FCW SGH PWSB OFFWJS  -> clé : 4\n",
      "YR EBV RFG OVRA NEEVIR  -> clé : 5\n",
      "XQ DAU QEF NUQZ MDDUHQ  -> clé : 6\n",
      "WP CZT PDE MTPY LCCTGP  -> clé : 7\n",
      "VO BYS OCD LSOX KBBSFO  -> clé : 8\n",
      "UN AXR NBC KRNW JAAREN  -> clé : 9\n",
      "TM ZWQ MAB JQMV IZZQDM  -> clé : 10\n",
      "SL YVP LZA IPLU HYYPCL  -> clé : 11\n",
      "RK XUO KYZ HOKT GXXOBK  -> clé : 12\n",
      "QJ WTN JXY GNJS FWWNAJ  -> clé : 13\n",
      "PI VSM IWX FMIR EVVMZI  -> clé : 14\n",
      "OH URL HVW ELHQ DUULYH  -> clé : 15\n",
      "NG TQK GUV DKGP CTTKXG  -> clé : 16\n",
      "MF SPJ FTU CJFO BSSJWF  -> clé : 17\n",
      "LE ROI EST BIEN ARRIVE  -> clé : 18\n",
      "KD QNH DRS AHDM ZQQHUD  -> clé : 19\n",
      "JC PMG CQR ZGCL YPPGTC  -> clé : 20\n",
      "IB OLF BPQ YFBK XOOFSB  -> clé : 21\n",
      "HA NKE AOP XEAJ WNNERA  -> clé : 22\n",
      "GZ MJD ZNO WDZI VMMDQZ  -> clé : 23\n",
      "FY LIC YMN VCYH ULLCPY  -> clé : 24\n",
      "EX KHB XLM UBXG TKKBOX  -> clé : 25\n"
     ]
    },
    {
     "data": {
      "application/vnd.jupyter.widget-view+json": {
       "model_id": "af2b9443407c41e5a9cf2b7bc13d40b9",
       "version_major": 2,
       "version_minor": 0
      },
      "text/plain": [
       "HBox(children=(IntText(value=0, description='Clé'), Button(button_style='success', description='Valider', styl…"
      ]
     },
     "metadata": {},
     "output_type": "display_data"
    }
   ],
   "source": [
    "# Ne modifiez pas le code\n",
    "nb_rand = ef.func_random_cesar()\n",
    "txt = ef.shuffle_phrase()\n",
    "txt_enc = ef.func_enc_cesar(txt, nb_rand)\n",
    "for i in range(26):\n",
    "    dc = ef.func_dec_cesar(txt_enc,i)\n",
    "    print(dc, \" -> clé :\",i)\n",
    "ef.pro_display_cesar_3(nb_rand)"
   ]
  }
 ],
 "metadata": {
  "celltoolbar": "Aucun(e)",
  "kernelspec": {
   "display_name": "SageMath 9.3",
   "language": "sage",
   "name": "sagemath"
  }
 },
 "nbformat": 4,
 "nbformat_minor": 4
}
