{
 "cells": [
  {
   "cell_type": "markdown",
   "metadata": {},
   "source": [
    "# Chiffrement de César\n",
    "\n",
    "Le chiffre de César ou chiffrement par décalage est une technique élémentaire de chiffrement par substitution. Inventé par Jules César, il a été utilisé dans l'Antiquité pour protéger des messages militaires confidentiels. Dans ce chiffrement, chaque lettre du message est décalée d'un certain nombre de positions dans l'alphabet.\n",
    "De nos jours, il n’est plus utilisé pour protéger les messages, mais permet cependant d’introduire les notions de base de la cryptographie.\n",
    "\n",
    "## Le fonctionnement\n",
    "Le chiffre de César fonctionne en substituant chaque lettre d'un message par une autre lettre décalée d'un nombre fixe de positions dans l'alphabet. Par exemple, avec un décalage de 3, la lettre \"A\" serait remplacée par \"D\", \"B\" par \"E\", et ainsi de suite. Ce processus de substitution est appliqué à chaque lettre du message, ce qui transforme le texte d'origine en un texte chiffré.\n",
    "<img src=\"../Images/cesar.png\" width=\"500\" height=\"300\">"
   ]
  },
  {
   "cell_type": "code",
   "execution_count": 7,
   "metadata": {
    "vscode": {
     "languageId": "python"
    }
   },
   "outputs": [],
   "source": [
    "import exercices_fonctions as ef\n",
    "file_path = \"../phrases.txt\""
   ]
  },
  {
   "cell_type": "markdown",
   "metadata": {},
   "source": [
    "## Exercice 1\n",
    "L'objectif de cet exercice est de chiffrer votre mot avec le chiffrement de César.\n",
    "Pour cela vous avez à disposition la fonction suivante :\n",
    "\n",
    "- shuffle_phrase(file_path) : qui permet de tirer au sort une phrase dans un fichier texte\n",
    "- func_enc_cesar(txt, cle) : permet de chiffrer un texte avec le chiffrement de César\n",
    "- func_random_cesar()  : qui permet de tirer au sort un nombre entier entre 1 et 25"
   ]
  },
  {
   "cell_type": "code",
   "execution_count": 8,
   "metadata": {
    "vscode": {
     "languageId": "python"
    }
   },
   "outputs": [],
   "source": [
    "# Exercice 1\n",
    "## Choisissez un mot et décalez les lettres comme bon vous semble"
   ]
  },
  {
   "cell_type": "code",
   "execution_count": 9,
   "metadata": {},
   "outputs": [],
   "source": [
    "# Pour Afficher la solution, enlevez le \"#\" du dessous\n",
    "# %load ../Soluce/soluce_cesar_1.py"
   ]
  },
  {
   "cell_type": "markdown",
   "metadata": {},
   "source": [
    "## Exercice 2\n",
    "Cet exercice a pour but de montrer comment un message encodé peut être décodé.\n",
    "Pour cela vous avez à disposition les fonctions suivantes :\n",
    "- func_enc_cesar(txt, cle) : qui permet de chiffrer un texte avec le chiffrement de César\n",
    "- func_random_cesar()  : qui permet de tirer au sort un nombre entier entre 1 et 25\n",
    "\n",
    "Avec les fonctions fournies, déchiffrez la phrase choisie aléatoirement, avec le chiffrement de César.\n",
    "\n",
    "La phrase est chiffrée avec un décalage de 17, trouvez le texte d'origine.\n"
   ]
  },
  {
   "cell_type": "code",
   "execution_count": 10,
   "metadata": {
    "vscode": {
     "languageId": "python"
    }
   },
   "outputs": [
    {
     "name": "stdout",
     "output_type": "stream",
     "text": [
      "CVJ TFGRZEJ JV JFEK IVKIFLMVJ\n"
     ]
    }
   ],
   "source": [
    "# Exercice 2\n",
    "# La phrase aléatoire\n",
    "phrase = ef.shuffle_phrase_ex2(file_path)\n",
    "print(phrase)\n",
    "\n",
    "# Retrouvez la phrase d'origine\n"
   ]
  },
  {
   "cell_type": "code",
   "execution_count": 11,
   "metadata": {},
   "outputs": [],
   "source": [
    "# Pour Afficher la solution, enlevez le \"#\" du dessous\n",
    "# %load ../Soluce/soluce_cesar_2.py"
   ]
  },
  {
   "cell_type": "markdown",
   "metadata": {},
   "source": [
    "## Exercice 3\n",
    "Cet exercice a pour but de montrer les limites du chiffrement de César. Vous devez trouver la clé qui a été utilisée pour encoder les messages, parmis les 26 décalages présentés.\n",
    "\n",
    "Trouvez la clé qui a été utilisée pour encoder le message."
   ]
  },
  {
   "cell_type": "code",
   "execution_count": 12,
   "metadata": {
    "vscode": {
     "languageId": "python"
    }
   },
   "outputs": [
    {
     "name": "stdout",
     "output_type": "stream",
     "text": [
      "SL TVZXBPAV LZA BU TVBZAPXBL  -> clé : 0\n",
      "RK SUYWAOZU KYZ AT SUAYZOWAK  -> clé : 1\n",
      "QJ RTXVZNYT JXY ZS RTZXYNVZJ  -> clé : 2\n",
      "PI QSWUYMXS IWX YR QSYWXMUYI  -> clé : 3\n",
      "OH PRVTXLWR HVW XQ PRXVWLTXH  -> clé : 4\n",
      "NG OQUSWKVQ GUV WP OQWUVKSWG  -> clé : 5\n",
      "MF NPTRVJUP FTU VO NPVTUJRVF  -> clé : 6\n",
      "LE MOSQUITO EST UN MOUSTIQUE  -> clé : 7\n",
      "KD LNRPTHSN DRS TM LNTRSHPTD  -> clé : 8\n",
      "JC KMQOSGRM CQR SL KMSQRGOSC  -> clé : 9\n",
      "IB JLPNRFQL BPQ RK JLRPQFNRB  -> clé : 10\n",
      "HA IKOMQEPK AOP QJ IKQOPEMQA  -> clé : 11\n",
      "GZ HJNLPDOJ ZNO PI HJPNODLPZ  -> clé : 12\n",
      "FY GIMKOCNI YMN OH GIOMNCKOY  -> clé : 13\n",
      "EX FHLJNBMH XLM NG FHNLMBJNX  -> clé : 14\n",
      "DW EGKIMALG WKL MF EGMKLAIMW  -> clé : 15\n",
      "CV DFJHLZKF VJK LE DFLJKZHLV  -> clé : 16\n",
      "BU CEIGKYJE UIJ KD CEKIJYGKU  -> clé : 17\n",
      "AT BDHFJXID THI JC BDJHIXFJT  -> clé : 18\n",
      "ZS ACGEIWHC SGH IB ACIGHWEIS  -> clé : 19\n",
      "YR ZBFDHVGB RFG HA ZBHFGVDHR  -> clé : 20\n",
      "XQ YAECGUFA QEF GZ YAGEFUCGQ  -> clé : 21\n",
      "WP XZDBFTEZ PDE FY XZFDETBFP  -> clé : 22\n",
      "VO WYCAESDY OCD EX WYECDSAEO  -> clé : 23\n",
      "UN VXBZDRCX NBC DW VXDBCRZDN  -> clé : 24\n",
      "TM UWAYCQBW MAB CV UWCABQYCM  -> clé : 25\n"
     ]
    }
   ],
   "source": [
    "txt = ef.shuffle_phrase(file_path)\n",
    "txt_enc = ef.func_enc_cesar(txt, ef.func_random_cesar())\n",
    "\n",
    "for i in range(26):\n",
    "    dc = ef.func_dec_cesar(txt_enc,i)\n",
    "    print(dc, \" -> clé :\",i)"
   ]
  }
 ],
 "metadata": {
  "celltoolbar": "Tags",
  "kernelspec": {
   "display_name": "SageMath 9.3",
   "language": "sage",
   "name": "sagemath"
  },
  "language_info": {
   "codemirror_mode": {
    "name": "ipython",
    "version": 3
   },
   "file_extension": ".py",
   "mimetype": "text/x-python",
   "name": "python",
   "nbconvert_exporter": "python",
   "pygments_lexer": "ipython3",
   "version": "3.7.10"
  }
 },
 "nbformat": 4,
 "nbformat_minor": 4
}
