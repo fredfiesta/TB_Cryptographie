{
 "cells": [
  {
   "cell_type": "markdown",
   "metadata": {},
   "source": [
    "# Chiffrement de César\n",
    "\n",
    "Le chiffre de César ou chiffrement par décalage est une technique élémentaire de chiffrement par substitution. Inventé par Jules César, il a été utilisé dans l'Antiquité pour protéger des messages militaires confidentiels. Dans ce chiffrement, chaque lettre du message est décalée d'un certain nombre de positions dans l'alphabet.\n",
    "De nos jours, il n’est plus utilisé pour protéger les messages, mais permet cependant d’introduire les notions de base de la cryptographie.\n",
    "\n",
    "## Le fonctionnement\n",
    "Le chiffre de César fonctionne en substituant chaque lettre d'un message par une autre lettre décalée d'un nombre fixe de positions dans l'alphabet. Par exemple, avec un décalage de 3, la lettre \"A\" serait remplacée par \"D\", \"B\" par \"E\", et ainsi de suite. Ce processus de substitution est appliqué à chaque lettre du message, ce qui transforme le texte d'origine en un texte chiffré.\n",
    "<img src=\"../Images/cesar.png\" width=\"500\" height=\"300\">"
   ]
  },
  {
   "cell_type": "code",
   "execution_count": 1,
   "metadata": {
    "vscode": {
     "languageId": "python"
    }
   },
   "outputs": [],
   "source": [
    "import exercices_fonctions as ef"
   ]
  },
  {
   "cell_type": "markdown",
   "metadata": {},
   "source": [
    "## Exercice 1\n",
    "L'objectif de cet exercice est de chiffrer votre mot avec le chiffrement de César.\n",
    "Pour cela vous avez à disposition les fonctions suivantes :\n",
    "\n",
    "Vous pouvez appeler les fonctions en les précédant du module **ef**.\n",
    "> ef.shuffle_phrase()\n",
    "\n",
    "- shuffle_phrase() : permet de tirer au sort une phrase dans un fichier texte\n",
    "- func_enc_cesar(txt, cle) : permet de chiffrer un texte avec le chiffrement de César\n",
    "- func_random_cesar()  : permet de tirer au sort un nombre entier entre 1 et 25"
   ]
  },
  {
   "cell_type": "code",
   "execution_count": 2,
   "metadata": {
    "vscode": {
     "languageId": "python"
    }
   },
   "outputs": [],
   "source": [
    "# Exercice 1\n",
    "## Choisissez un mot et décalez les lettres comme bon vous semble"
   ]
  },
  {
   "cell_type": "code",
   "execution_count": 3,
   "metadata": {},
   "outputs": [
    {
     "data": {
      "application/vnd.jupyter.widget-view+json": {
       "model_id": "a39a193a9a064aa89d8b68bf30df5519",
       "version_major": 2,
       "version_minor": 0
      },
      "text/plain": [
       "Button(button_style='info', description='Afficher la solution', style=ButtonStyle())"
      ]
     },
     "metadata": {},
     "output_type": "display_data"
    }
   ],
   "source": [
    "# Cliquez sur le bouton pour afficher la solution\n",
    "ef.pro_display_cesar_1()"
   ]
  },
  {
   "cell_type": "markdown",
   "metadata": {},
   "source": [
    "## Exercice 2\n",
    "Cet exercice a pour but de montrer comment un message encodé peut être décodé.\n",
    "Pour cela vous avez à disposition les fonctions suivantes :\n",
    "- func_enc_cesar(txt, cle) : permet de chiffrer un texte avec le chiffrement de César\n",
    "- func_random_cesar()  : permet de tirer au sort un nombre entier entre 1 et 25\n",
    "\n",
    "Avec les fonctions fournies, déchiffrez la phrase choisie aléatoirement, avec le chiffrement de César.\n",
    "\n",
    "La phrase est chiffrée avec un décalage de 17, trouvez le texte d'origine.\n"
   ]
  },
  {
   "cell_type": "code",
   "execution_count": 4,
   "metadata": {
    "vscode": {
     "languageId": "python"
    }
   },
   "outputs": [
    {
     "name": "stdout",
     "output_type": "stream",
     "text": [
      "UVEZJV R UV AFCZJ DFCCVKJ\n"
     ]
    }
   ],
   "source": [
    "# Exercice 2\n",
    "# La phrase aléatoire\n",
    "phrase = ef.shuffle_phrase_ex2()\n",
    "print(phrase)\n",
    "\n",
    "# Retrouvez la phrase d'origine\n"
   ]
  },
  {
   "cell_type": "code",
   "execution_count": 5,
   "metadata": {},
   "outputs": [
    {
     "data": {
      "application/vnd.jupyter.widget-view+json": {
       "model_id": "a33c9b5aaf1e4515ade050d727cd9adb",
       "version_major": 2,
       "version_minor": 0
      },
      "text/plain": [
       "Button(button_style='info', description='Afficher la solution', style=ButtonStyle())"
      ]
     },
     "metadata": {},
     "output_type": "display_data"
    }
   ],
   "source": [
    "# Cliquez sur le bouton pour afficher la solution\n",
    "ef.pro_display_cesar_2()"
   ]
  },
  {
   "cell_type": "markdown",
   "metadata": {},
   "source": [
    "## Exercice 3\n",
    "Cet exercice a pour but de montrer les limites du chiffrement de César. Vous devez trouver la clé qui a été utilisée pour encoder les messages, parmi les 26 décalages présentés.\n",
    "\n",
    "Trouvez la clé qui a été utilisée pour encoder le message."
   ]
  },
  {
   "cell_type": "code",
   "execution_count": 6,
   "metadata": {
    "vscode": {
     "languageId": "python"
    }
   },
   "outputs": [
    {
     "name": "stdout",
     "output_type": "stream",
     "text": [
      "DWK XSMNWK AJGFL SM HSJSVAK  -> clé : 0\n",
      "CVJ WRLMVJ ZIFEK RL GRIRUZJ  -> clé : 1\n",
      "BUI VQKLUI YHEDJ QK FQHQTYI  -> clé : 2\n",
      "ATH UPJKTH XGDCI PJ EPGPSXH  -> clé : 3\n",
      "ZSG TOIJSG WFCBH OI DOFORWG  -> clé : 4\n",
      "YRF SNHIRF VEBAG NH CNENQVF  -> clé : 5\n",
      "XQE RMGHQE UDAZF MG BMDMPUE  -> clé : 6\n",
      "WPD QLFGPD TCZYE LF ALCLOTD  -> clé : 7\n",
      "VOC PKEFOC SBYXD KE ZKBKNSC  -> clé : 8\n",
      "UNB OJDENB RAXWC JD YJAJMRB  -> clé : 9\n",
      "TMA NICDMA QZWVB IC XIZILQA  -> clé : 10\n",
      "SLZ MHBCLZ PYVUA HB WHYHKPZ  -> clé : 11\n",
      "RKY LGABKY OXUTZ GA VGXGJOY  -> clé : 12\n",
      "QJX KFZAJX NWTSY FZ UFWFINX  -> clé : 13\n",
      "PIW JEYZIW MVSRX EY TEVEHMW  -> clé : 14\n",
      "OHV IDXYHV LURQW DX SDUDGLV  -> clé : 15\n",
      "NGU HCWXGU KTQPV CW RCTCFKU  -> clé : 16\n",
      "MFT GBVWFT JSPOU BV QBSBEJT  -> clé : 17\n",
      "LES FAUVES IRONT AU PARADIS  -> clé : 18\n",
      "KDR EZTUDR HQNMS ZT OZQZCHR  -> clé : 19\n",
      "JCQ DYSTCQ GPMLR YS NYPYBGQ  -> clé : 20\n",
      "IBP CXRSBP FOLKQ XR MXOXAFP  -> clé : 21\n",
      "HAO BWQRAO ENKJP WQ LWNWZEO  -> clé : 22\n",
      "GZN AVPQZN DMJIO VP KVMVYDN  -> clé : 23\n",
      "FYM ZUOPYM CLIHN UO JULUXCM  -> clé : 24\n",
      "EXL YTNOXL BKHGM TN ITKTWBL  -> clé : 25\n"
     ]
    },
    {
     "data": {
      "application/vnd.jupyter.widget-view+json": {
       "model_id": "6415184b63604ae6b70382dcd14dab0b",
       "version_major": 2,
       "version_minor": 0
      },
      "text/plain": [
       "HBox(children=(IntText(value=0, description='Clé'), Button(button_style='success', description='Valider', styl…"
      ]
     },
     "metadata": {},
     "output_type": "display_data"
    }
   ],
   "source": [
    "# Ne modifiez pas le code\n",
    "nb_rand = ef.func_random_cesar()\n",
    "txt = ef.shuffle_phrase()\n",
    "txt_enc = ef.func_enc_cesar(txt, nb_rand)\n",
    "for i in range(26):\n",
    "    dc = ef.func_dec_cesar(txt_enc,i)\n",
    "    print(dc, \" -> clé :\",i)\n",
    "ef.pro_display_cesar_3(nb_rand)"
   ]
  }
 ],
 "metadata": {
  "celltoolbar": "Aucun(e)",
  "kernelspec": {
   "display_name": "SageMath 9.3",
   "language": "sage",
   "name": "sagemath"
  },
  "language_info": {
   "codemirror_mode": {
    "name": "ipython",
    "version": 3
   },
   "file_extension": ".py",
   "mimetype": "text/x-python",
   "name": "python",
   "nbconvert_exporter": "python",
   "pygments_lexer": "ipython3",
   "version": "3.7.10"
  }
 },
 "nbformat": 4,
 "nbformat_minor": 4
}
