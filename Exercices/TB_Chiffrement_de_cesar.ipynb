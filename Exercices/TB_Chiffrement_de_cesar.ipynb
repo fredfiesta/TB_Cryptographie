{
 "cells": [
  {
   "cell_type": "markdown",
   "metadata": {},
   "source": [
    "# Chiffrement de César\n",
    "\n",
    "Le chiffre de César ou chiffrement par décalage est une technique élémentaire de chiffrement par substitution. Inventé par Jules César, il a été utilisé dans l'Antiquité pour protéger des messages militaires confidentiels. Dans ce chiffrement, chaque lettre du message est décalée d'un certain nombre de positions dans l'alphabet.\n",
    "De nos jours, il n’est plus utilisé pour protéger les messages, mais permet cependant d’introduire les notions de base de la cryptographie.\n",
    "\n",
    "## Le fonctionnement\n",
    "Le chiffre de César fonctionne en substituant chaque lettre d'un message par une autre lettre décalée d'un nombre fixe de positions dans l'alphabet. Par exemple, avec un décalage de 3, la lettre \"A\" serait remplacée par \"D\", \"B\" par \"E\", et ainsi de suite. Ce processus de substitution est appliqué à chaque lettre du message, ce qui transforme le texte d'origine en un texte chiffré.\n",
    "<img src=\"../Images/cesar.png\" width=\"500\" height=\"300\">"
   ]
  },
  {
   "cell_type": "code",
   "execution_count": 16,
   "metadata": {
    "vscode": {
     "languageId": "python"
    }
   },
   "outputs": [],
   "source": [
    "import exercices_fonctions as ef\n",
    "file_path = \"../phrases.txt\""
   ]
  },
  {
   "cell_type": "markdown",
   "metadata": {},
   "source": [
    "## Exercice 1\n",
    "L'objectif de cet exercice est de chiffrer votre mot avec le chiffrement de César.\n",
    "Pour cela vous avez à disposition les fonctions suivantes :\n",
    "\n",
    "Vous pouvez appeler les fonctions en les précédant du module **ef**.\n",
    "> ef.shuffle_phrase(files_path)\n",
    "\n",
    "- shuffle_phrase(file_path) : permet de tirer au sort une phrase dans un fichier texte\n",
    "- func_enc_cesar(txt, cle) : permet de chiffrer un texte avec le chiffrement de César\n",
    "- func_random_cesar()  : permet de tirer au sort un nombre entier entre 1 et 25"
   ]
  },
  {
   "cell_type": "code",
   "execution_count": 17,
   "metadata": {
    "vscode": {
     "languageId": "python"
    }
   },
   "outputs": [],
   "source": [
    "# Exercice 1\n",
    "## Choisissez un mot et décalez les lettres comme bon vous semble"
   ]
  },
  {
   "cell_type": "code",
   "execution_count": 18,
   "metadata": {},
   "outputs": [
    {
     "data": {
      "application/vnd.jupyter.widget-view+json": {
       "model_id": "c1e9edfd44fc40dd82928ba38715aea2",
       "version_major": 2,
       "version_minor": 0
      },
      "text/plain": [
       "Button(button_style='info', description='Afficher la solution', style=ButtonStyle())"
      ]
     },
     "metadata": {},
     "output_type": "display_data"
    }
   ],
   "source": [
    "# Cliquez sur le bouton pour afficher la solution\n",
    "ef.pro_display_cesar_1()"
   ]
  },
  {
   "cell_type": "markdown",
   "metadata": {},
   "source": [
    "## Exercice 2\n",
    "Cet exercice a pour but de montrer comment un message encodé peut être décodé.\n",
    "Pour cela vous avez à disposition les fonctions suivantes :\n",
    "- func_enc_cesar(txt, cle) : permet de chiffrer un texte avec le chiffrement de César\n",
    "- func_random_cesar()  : permet de tirer au sort un nombre entier entre 1 et 25\n",
    "\n",
    "Avec les fonctions fournies, déchiffrez la phrase choisie aléatoirement, avec le chiffrement de César.\n",
    "\n",
    "La phrase est chiffrée avec un décalage de 17, trouvez le texte d'origine.\n"
   ]
  },
  {
   "cell_type": "code",
   "execution_count": 19,
   "metadata": {
    "vscode": {
     "languageId": "python"
    }
   },
   "outputs": [
    {
     "name": "stdout",
     "output_type": "stream",
     "text": [
      "VUZKY CR WZCCV UV TYIZJKZEV VK UV ARDVJ JV DRIZVEK\n"
     ]
    }
   ],
   "source": [
    "# Exercice 2\n",
    "# La phrase aléatoire\n",
    "phrase = ef.shuffle_phrase_ex2(file_path)\n",
    "print(phrase)\n",
    "\n",
    "# Retrouvez la phrase d'origine\n"
   ]
  },
  {
   "cell_type": "code",
   "execution_count": 20,
   "metadata": {},
   "outputs": [
    {
     "data": {
      "application/vnd.jupyter.widget-view+json": {
       "model_id": "eda9c7cfa04f4047bde6c39acf798ad8",
       "version_major": 2,
       "version_minor": 0
      },
      "text/plain": [
       "Button(button_style='info', description='Afficher la solution', style=ButtonStyle())"
      ]
     },
     "metadata": {},
     "output_type": "display_data"
    }
   ],
   "source": [
    "# Cliquez sur le bouton pour afficher la solution\n",
    "ef.pro_display_cesar_2()"
   ]
  },
  {
   "cell_type": "markdown",
   "metadata": {},
   "source": [
    "## Exercice 3\n",
    "Cet exercice a pour but de montrer les limites du chiffrement de César. Vous devez trouver la clé qui a été utilisée pour encoder les messages, parmi les 26 décalages présentés.\n",
    "\n",
    "Trouvez la clé qui a été utilisée pour encoder le message."
   ]
  },
  {
   "cell_type": "code",
   "execution_count": 21,
   "metadata": {
    "vscode": {
     "languageId": "python"
    }
   },
   "outputs": [
    {
     "name": "stdout",
     "output_type": "stream",
     "text": [
      "ZS AIZSH GS DFCASBS ZO BIWH  -> clé : 0\n",
      "YR ZHYRG FR CEBZRAR YN AHVG  -> clé : 1\n",
      "XQ YGXQF EQ BDAYQZQ XM ZGUF  -> clé : 2\n",
      "WP XFWPE DP ACZXPYP WL YFTE  -> clé : 3\n",
      "VO WEVOD CO ZBYWOXO VK XESD  -> clé : 4\n",
      "UN VDUNC BN YAXVNWN UJ WDRC  -> clé : 5\n",
      "TM UCTMB AM XZWUMVM TI VCQB  -> clé : 6\n",
      "SL TBSLA ZL WYVTLUL SH UBPA  -> clé : 7\n",
      "RK SARKZ YK VXUSKTK RG TAOZ  -> clé : 8\n",
      "QJ RZQJY XJ UWTRJSJ QF SZNY  -> clé : 9\n",
      "PI QYPIX WI TVSQIRI PE RYMX  -> clé : 10\n",
      "OH PXOHW VH SURPHQH OD QXLW  -> clé : 11\n",
      "NG OWNGV UG RTQOGPG NC PWKV  -> clé : 12\n",
      "MF NVMFU TF QSPNFOF MB OVJU  -> clé : 13\n",
      "LE MULET SE PROMENE LA NUIT  -> clé : 14\n",
      "KD LTKDS RD OQNLDMD KZ MTHS  -> clé : 15\n",
      "JC KSJCR QC NPMKCLC JY LSGR  -> clé : 16\n",
      "IB JRIBQ PB MOLJBKB IX KRFQ  -> clé : 17\n",
      "HA IQHAP OA LNKIAJA HW JQEP  -> clé : 18\n",
      "GZ HPGZO NZ KMJHZIZ GV IPDO  -> clé : 19\n",
      "FY GOFYN MY JLIGYHY FU HOCN  -> clé : 20\n",
      "EX FNEXM LX IKHFXGX ET GNBM  -> clé : 21\n",
      "DW EMDWL KW HJGEWFW DS FMAL  -> clé : 22\n",
      "CV DLCVK JV GIFDVEV CR ELZK  -> clé : 23\n",
      "BU CKBUJ IU FHECUDU BQ DKYJ  -> clé : 24\n",
      "AT BJATI HT EGDBTCT AP CJXI  -> clé : 25\n"
     ]
    },
    {
     "data": {
      "application/vnd.jupyter.widget-view+json": {
       "model_id": "8de41e455a8a482e913ea23a0fc5f1ab",
       "version_major": 2,
       "version_minor": 0
      },
      "text/plain": [
       "HBox(children=(IntText(value=0, description='Clé'), Button(button_style='success', description='Valider', styl…"
      ]
     },
     "metadata": {},
     "output_type": "display_data"
    }
   ],
   "source": [
    "# Ne modifiez pas le code\n",
    "nb_rand = ef.func_random_cesar()\n",
    "txt = ef.shuffle_phrase(file_path)\n",
    "txt_enc = ef.func_enc_cesar(txt, nb_rand)\n",
    "for i in range(26):\n",
    "    dc = ef.func_dec_cesar(txt_enc,i)\n",
    "    print(dc, \" -> clé :\",i)\n",
    "ef.pro_display_cesar_3(nb_rand)"
   ]
  }
 ],
 "metadata": {
  "celltoolbar": "Aucun(e)",
  "kernelspec": {
   "display_name": "SageMath 9.3",
   "language": "sage",
   "name": "sagemath"
  },
  "language_info": {
   "codemirror_mode": {
    "name": "ipython",
    "version": 3
   },
   "file_extension": ".py",
   "mimetype": "text/x-python",
   "name": "python",
   "nbconvert_exporter": "python",
   "pygments_lexer": "ipython3",
   "version": "3.7.10"
  }
 },
 "nbformat": 4,
 "nbformat_minor": 4
}
