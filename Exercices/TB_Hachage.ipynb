{
 "cells": [
  {
   "cell_type": "markdown",
   "metadata": {},
   "source": [
    "# Hachage\n",
    "Le hachage est un concept fondamental de la cryptographie et de la sécurité informatique. Il s'agit d'un processus par lequel les données sont transformées en une empreinte numérique de taille fixe, généralement sous forme de chaîne de caractères hexadécimaux. Cette empreinte, appelée \"hash\", est normalement unique pour chaque ensemble de données en entrée et est calculée de manière à ce qu'il soit extrêmement difficile de déterminer les données d'origine à partir de l'empreinte. Les fonctions de hachage sont utilisées pour sécuriser les données, vérifier l'intégrité des fichiers, créer des empreintes digitales de messages, et plus encore.\n",
    "\n",
    "<img src=\"../Images/hachage.png\" title=\"simplilearn.com Message-Digest Algorithm 5: Overview and How Does it Work?\">\n",
    "\n",
    "## MD5\n",
    "Le MD5 ou message digest 5, est un algorithme de hachage couramment utilisé pour créer une empreinte numérique d'un message. Cette empreinte a une taille fixe de 128 bits et est représentée par une chaîne hexadécimale de 32 caractères. Le MD5 était rapide et pratique pour de nombreuses applications, comme la vérification d'intégrité des données et la gestion de mots de passe. Cependant, en raison de ses vulnérabilités, notamment la possibilité de collisions, où deux messages différents peuvent avoir la même empreinte, le MD5 n'est plus considéré comme sûr pour les applications de sécurité.\n",
    "### Le fonctionnement\n",
    "Dans le tableau ci-dessous nous pouvons voir le principe du MD5. Un message, peu importe la similarité à un autre aura, généralement, une empreinte unique d’une taille finie(128bits, 32 caractères hexadécimaux).\n",
    "\n",
    "| Message en clair | Valeur en MD5 |\n",
    "|:--------|:--------|\n",
    "|  Cryptographie   |  3071a3f52819e57de1740f5286297737   |\n",
    "|  cryptographie   |  F1bd003f7df56250d3f277b81e97218c   |\n",
    "|  cryptographi   |   3ead97b23d75404e9e4880adc6533608   |\n",
    "\n",
    "\n"
   ]
  },
  {
   "cell_type": "code",
   "execution_count": 1,
   "metadata": {},
   "outputs": [],
   "source": [
    "import exercices_fonctions as ef"
   ]
  },
  {
   "cell_type": "markdown",
   "metadata": {},
   "source": [
    "### Exercice 1\n",
    "\n",
    "Nous avons reçu 3 fichiers de 3 personnes différentes. Alice, Bob et Marc nous ont chacun envoyé un fichier .txt et son empreinte en MD5.\n",
    "\n",
    "Cependant, lors de l'envoi, une personne mal intentionnée a altéré l'un des fichier. Votre objectif est de trouver lequel de ces fichiers l'a été.\n",
    "\n",
    "Nos correspondants nous indiques que leurs fichiers avaient les empreintes suivantes à l'envoi:\n",
    "<br>\n",
    "\n",
    "|  |  |\n",
    "| :-------- | :-------- |\n",
    "|  Alice   |  b140ad332e68c35c88680f92dd6264f1   |\n",
    "|  Bob   |  ca18e37e51edbbd26f2373311595218a   |\n",
    "|  Marc   |  9b6b49d07298b71f3b99c2892494a8f4   |\n",
    "\n",
    "L'objectif de cet exercice est de comprendre l'utilité du hachage et des empreintes de fichier, **trouvez le fichier qui a été modifié, puis sélectionnez la bonne réponse**.\n",
    "\n",
    "\n",
    "Pour cela, vous avez accès à la fonction suivante:\n",
    "- func_hash_md5(path): permet d'obtenir l'empreinte MD5 d'un fichier en entrée\n",
    "\n",
    "Les documents à vérifier sont aux chemins suivants:\n",
    "- Fichiers/Hachage/Alice.txt\n",
    "- Fichiers/Hachage/Bob.txt\n",
    "- Fichiers/Hachage/Marc.txt\n",
    "\n"
   ]
  },
  {
   "cell_type": "code",
   "execution_count": 2,
   "metadata": {},
   "outputs": [],
   "source": [
    "# Exercice 1\n",
    "# Vérifiez les fichiers reçus\n",
    "path = 'Fichiers/Hachage/...'\n",
    "\n",
    "# Votre code\n",
    "\n"
   ]
  },
  {
   "cell_type": "code",
   "execution_count": 3,
   "metadata": {
    "scrolled": true
   },
   "outputs": [
    {
     "name": "stdout",
     "output_type": "stream",
     "text": [
      "Lequel de ces fichiers à été modifié?\n"
     ]
    },
    {
     "data": {
      "application/vnd.jupyter.widget-view+json": {
       "model_id": "a3be507bacbf4034ab29b01731aeb236",
       "version_major": 2,
       "version_minor": 0
      },
      "text/plain": [
       "ToggleButtons(button_style='info', description='Fichiers:', options=('Alice.txt', 'Bob.txt', 'Marc.txt'), tool…"
      ]
     },
     "metadata": {},
     "output_type": "display_data"
    }
   ],
   "source": [
    "# Sélectionnez la bonne réponse\n",
    "ef.pro_display_md5_1()"
   ]
  },
  {
   "cell_type": "code",
   "execution_count": 4,
   "metadata": {},
   "outputs": [
    {
     "data": {
      "application/vnd.jupyter.widget-view+json": {
       "model_id": "3e2da64be6a849259e9bc9e1e116ef8f",
       "version_major": 2,
       "version_minor": 0
      },
      "text/plain": [
       "Button(button_style='info', description='Afficher la solution', style=ButtonStyle())"
      ]
     },
     "metadata": {},
     "output_type": "display_data"
    }
   ],
   "source": [
    "# Cliquez pour afficher la solution\n",
    "ef.pro_display_md5_soluce_1()"
   ]
  },
  {
   "cell_type": "markdown",
   "metadata": {},
   "source": [
    "## Exercice 2\n",
    "\n",
    "L'objectif de cet exercice est de vous faire tester les commandes Openssl. \n",
    "La commande pour obtenir l'empreinte MD5 d'un fichier est la suivante\n",
    "\n",
    "> openssl dgst -md5\n",
    "\n",
    "Vous trouverez plus d'information sur la commande dans la documentation de Openssl:\n",
    "[Documentation de Openssl](https://www.openssl.org/docs/man3.0/man1/openssl-dgst.html)\n",
    "\n",
    "A l'aide de la fonction suivante:\n",
    "- func_cmd_md5(commande): execute la commande en paramètre et retourne le résultat\n",
    "\n",
    "Vous devez trouver l'empreinte du fichier au chemin suivant:\n",
    "- Fichiers/Hachage/Exercice2.txt"
   ]
  },
  {
   "cell_type": "code",
   "execution_count": 5,
   "metadata": {},
   "outputs": [],
   "source": [
    "# Exercice 2\n",
    "# Votre code\n",
    "\n"
   ]
  },
  {
   "cell_type": "code",
   "execution_count": 6,
   "metadata": {
    "scrolled": true
   },
   "outputs": [
    {
     "data": {
      "application/vnd.jupyter.widget-view+json": {
       "model_id": "f58489b36a3042588ca9376c064be37e",
       "version_major": 2,
       "version_minor": 0
      },
      "text/plain": [
       "HBox(children=(Text(value='', description='Empreinte', layout=Layout(width='400px')), Button(button_style='inf…"
      ]
     },
     "metadata": {},
     "output_type": "display_data"
    }
   ],
   "source": [
    "# Entrez l'empreinte MD5 du document Exercice2.txt\n",
    "ef.pro_display_md5_2()"
   ]
  },
  {
   "cell_type": "code",
   "execution_count": 7,
   "metadata": {},
   "outputs": [
    {
     "data": {
      "application/vnd.jupyter.widget-view+json": {
       "model_id": "4e4225ff9a954a2ab280031d3cb4e2f4",
       "version_major": 2,
       "version_minor": 0
      },
      "text/plain": [
       "Button(button_style='info', description='Afficher la solution', style=ButtonStyle())"
      ]
     },
     "metadata": {},
     "output_type": "display_data"
    }
   ],
   "source": [
    "# Cliquez pour afficher la solution\n",
    "ef.pro_display_md5_soluce_2()"
   ]
  }
 ],
 "metadata": {
  "kernelspec": {
   "display_name": "SageMath 9.3",
   "language": "sage",
   "name": "sagemath"
  },
  "language_info": {
   "codemirror_mode": {
    "name": "ipython",
    "version": 3
   },
   "file_extension": ".py",
   "mimetype": "text/x-python",
   "name": "python",
   "nbconvert_exporter": "python",
   "pygments_lexer": "ipython3",
   "version": "3.7.10"
  }
 },
 "nbformat": 4,
 "nbformat_minor": 4
}
