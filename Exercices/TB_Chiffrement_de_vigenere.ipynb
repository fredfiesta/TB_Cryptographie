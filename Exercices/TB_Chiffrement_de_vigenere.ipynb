{
 "cells": [
  {
   "cell_type": "markdown",
   "metadata": {},
   "source": [
    "# Chiffrement de Vigenère\n",
    "\n",
    "Le chiffrement de Vigenère est une technique de chiffrement classique qui améliore la sécurité du chiffrement de César.\n",
    "Alors que le chiffrement de César repose sur un simple décalage constant des lettres dans un message, le chiffrement de Vigenère utilise une clé de chiffrement variable, généralement sous forme de mot-clé. Chaque lettre du mot-clé est associée à une lettre du message, et cette lettre du mot-clé est utilisée pour déterminer le décalage à appliquer à la lettre du message.\n",
    "Cette variabilité dans les décalages rend le chiffrement de Vigenère plus complexe que le chiffrement de César.\n",
    "\n",
    "<img src=\"../Images/tableau_vigenere.png\" width=\"500\" height=\"500\">\n",
    "\n",
    "## Exemple\n",
    "\n",
    "Afin de comprendre le fonctionnement du chiffrement de Vigenère, le plus simple est de prendre un exemple.\n",
    "Tout d’abord, il nous faut un mot à encrypter et une clé sur lequel l’encrypter.\n",
    "\n",
    "| Mot à encrypter | Mot clé pour l'encryption |\n",
    "|:--------:|:--------:|\n",
    "|  Banane   |  Orange   |\n",
    "\n",
    "Puis, à l’aide du tableau de Vigenère, nous pouvons commencer à encrypter le mot, lettre par lettre.\n",
    "La première lettre à encrypter est le B, en utilisant la première lettre de la clé, le O.\n",
    "En rapportant ces lettres au tableau, nous pouvons voir ceci :\n",
    "\n",
    "<img src=\"../Images/tableau_vigenere2.png\" width=\"500\" height=\"500\">\n",
    "\n",
    "La lettre B et la lettre O se croisent et donnent la lettre P.\n",
    "En appliquant le même principe sur le reste des mots, nous obtenons finalement ceci :\n",
    "\n",
    "> Prnnti\n",
    "\n",
    "À noter que si la clé est plus courte que le mot à encrypter, nous pouvons simplement recommencer la suite.\n",
    "\n",
    "| Mot à encrypter | Mot clé pour l'encryption |\n",
    "|:--------:|:--------:|\n",
    "|  Banane   |  Bob   |\n",
    "\n",
    "Bob devient BobBob pour avoir la même longueur que Banane.\n",
    "\n",
    "| Mot à encrypter | Mot clé pour l'encryption |\n",
    "|:--------:|:--------:|\n",
    "|  Banane   |  BobBob   |\n"
   ]
  },
  {
   "cell_type": "code",
   "execution_count": 4,
   "metadata": {},
   "outputs": [],
   "source": [
    "import exercices_fonctions as ef"
   ]
  },
  {
   "cell_type": "markdown",
   "metadata": {},
   "source": [
    "## Exercice 1\n",
    "\n",
    "L'objectif de cet exercice est de comprendre le fonctionnement du chiffrement de Vigenère.\n",
    "Pour cela, vous aurez accès aux fonctions suivantes et au tableau de Vigenère :\n",
    "\n",
    "- shuffle_phrase() : permet de tirer au sort une phrase dans un fichier texte\n",
    "- format_key_vig(string, key) : permet de formater la clé afin qu'elle soit de la même taille que le mot (quand la clé plus courte que le mot)\n",
    "- func_enc_vig(string, key) : permet de chiffrer un mot, avec une clé, en utilisant le Chiffrement de Vigenère\n",
    "\n",
    "<img src=\"../Images/tableau_vigenere.png\" width=\"500\" height=\"500\">\n",
    "\n",
    "Choisissez un mot, ainsi qu'une clé sur lequel l'encrypter.\n",
    "Encryptez-le manuellement, puis vérifiez votre résultat à l'aide des fonctions disponibles."
   ]
  },
  {
   "cell_type": "code",
   "execution_count": 5,
   "metadata": {},
   "outputs": [],
   "source": [
    "# Mot et Clé que vous utiliserez\n",
    "mot = \"\"\n",
    "cle = \"\"\n",
    "reponse = \"\"\n",
    "# Partie pour la vérification"
   ]
  },
  {
   "cell_type": "code",
   "execution_count": 6,
   "metadata": {},
   "outputs": [
    {
     "data": {
      "application/vnd.jupyter.widget-view+json": {
       "model_id": "2762b388cb2948129fec4427f03dcb6c",
       "version_major": 2,
       "version_minor": 0
      },
      "text/plain": [
       "Button(button_style='info', description='Afficher la solution', style=ButtonStyle())"
      ]
     },
     "metadata": {},
     "output_type": "display_data"
    }
   ],
   "source": [
    "# Cliquez sur le bouton pour afficher la solution de la vérification\n",
    "ef.pro_display_vigenere()"
   ]
  }
 ],
 "metadata": {
  "kernelspec": {
   "display_name": "SageMath 9.3",
   "language": "sage",
   "name": "sagemath"
  },
  "language_info": {
   "codemirror_mode": {
    "name": "ipython",
    "version": 3
   },
   "file_extension": ".py",
   "mimetype": "text/x-python",
   "name": "python",
   "nbconvert_exporter": "python",
   "pygments_lexer": "ipython3",
   "version": "3.7.10"
  }
 },
 "nbformat": 4,
 "nbformat_minor": 4
}
