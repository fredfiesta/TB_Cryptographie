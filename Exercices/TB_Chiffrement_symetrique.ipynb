{
 "cells": [
  {
   "cell_type": "markdown",
   "metadata": {},
   "source": [
    "# Chiffrement symétrique\n",
    "\n",
    "Le chiffrement symétrique est une partie primordiale de la cryptographie. Il permet de sécuriser des données en utilisant une clé pour les chiffrer et pour les déchiffrer. Pour que ce système fonctionne, la clé est partagée entre l'émetteur des données et le destinataire afin garantir la confidentialité des informations durant le partage. \n",
    "Le processus repose sur des algorithmes de chiffrement qui transforment les données d'origine en un format souvent illisible, lequel ne peut être rétabli à sa forme initiale que par ceux qui possèdent la clé de déchiffrement. Bien que le chiffrement symétrique soit rapide et efficace, la gestion sécurisée des clés partagées est essentielle pour maintenir la sécurité.\n",
    "\n",
    "<img title=\"By MarcT0K (icons by JGraph) - Own work, CC BY-SA 4.0\" src=\"../Images/sym.png\" width=600 height=600>\n",
    "\n",
    "## AES\n",
    "L'Advanced Encryption Standard ou AES, est un algorithme de chiffrement symétrique largement utilisé en cryptographie pour sécuriser des données sensibles. Il a été introduit pour succéder au Data Encryption Standard, le DES étant devenu vulnérable due à la courte longueur de sa clé. L’AES remplaça le DES en tant que norme aux Etats-Unis en 2001.\n",
    "L'AES a été conçu pour fournir un niveau élevé de sécurité en utilisant des clés de chiffrement plus longues (128, 192 ou 256 bits) et en employant des méthodes de chiffrement plus avancées. Il est vastement utilisé en sécurité informatique et offre une protection robuste même actuellement. \n",
    "\n",
    "### Fonctionnement\n",
    "Nous allons voir comment fonctionne l'AES de manière simplifiée :\n",
    "#### Clé de chiffrement\n",
    "Tout d’abord, nous devons choisir une clé de chiffrement. L'AES prend en charge des clés de 128, 192 ou 256 bits. La sécurité augmente avec la longueur de la clé.\n",
    "#### Sous-clés\n",
    "En fonction de la longueur de la clé (128, 192 ou 256 bits), l'algorithme AES génère un ensemble de sous-clés pour chaque tour de chiffrement. Ces sous-clés sont utilisées pour effectuer des opérations de substitution et de permutation sur les données.\n",
    "#### Tours (Rounds)\n",
    "L'AES effectue un certain nombre de tours de chiffrement, en fonction de la longueur de la clé. Chaque tour comprend des opérations de substitution (SubBytes), de permutation (ShiftRows), de mélange (MixColumns) et l'ajout de la sous-clé du tour.\n",
    "#### Substitution (SubBytes)\n",
    "Dans cette étape, les octets de données sont remplacés par d'autres octets en utilisant une table de substitution. Cela rend le chiffrement non linéaire et renforce la sécurité.\n",
    "\n",
    "<img title=\"Matt Crypto - Own work, Public Domain\" src=\"../Images/aes1.png\" width=500 height=500>\n",
    "\n",
    "#### Permutation (ShiftRows)\n",
    "Les octets de chaque ligne sont déplacés d'un certain nombre de positions vers la gauche. Cela mélange les données de manière à ajouter de la confusion.\n",
    "\n",
    "<img title=\"Matt Crypto - Own work, Public Domain\" src=\"../Images/aes2.png\" width=550 height=550>\n",
    "\n",
    "#### Mélange (MixColumns)\n",
    "Les colonnes d'octets sont mélangées les unes avec les autres. Cette opération contribue également à la confusion des données.\n",
    "\n",
    "<img title=\"Matt Crypto - Own work, Public Domain\" src=\"../Images/aes3.png\" width=500 height=500>\n",
    "\n",
    "#### Ajout de la sous-clé de tour (AddRoundKey)\n",
    "Chaque tour utilise une sous-clé spécifique pour ajouter une couche de chiffrement. Les octets de données sont XORés avec les octets correspondants de la sous-clé.\n",
    "\n",
    "<img title=\"Matt Crypto - Own work, Public Domain\" src=\"../Images/aes4.png\">\n",
    "\n",
    "#### Répétition des tours\n",
    "Les étapes de substitution, de permutation, de mélange et d'ajout de sous-clé sont répétées pour chaque tour. Le nombre de tours dépend de la longueur de la clé (10 tours pour 128 bits, 12 tours pour 192 bits, 14 tours pour 256 bits).\n",
    "\n",
    "#### Résultat chiffré\n",
    "Une fois tous les tours terminés, les données sont chiffrées et le résultat est le texte chiffré, prêt à être transmis ou stocké en toute sécurité.\n",
    "\n",
    "<br><br>"
   ]
  },
  {
   "cell_type": "code",
   "execution_count": 17,
   "metadata": {},
   "outputs": [],
   "source": [
    "import exercices_fonctions as ef"
   ]
  },
  {
   "cell_type": "markdown",
   "metadata": {},
   "source": [
    "## Exercice 1\n",
    "\n",
    "L’objectif de cet exercice est de comprendre le fonctionnement d’une clé symétrique.\n",
    "\n",
    "Vous discutez ici avec Alice, Bob et Marc. Ces 3 personnes vous font confiance et vous ont alors chacuns partagés une clé symétrique pour discuter.\n",
    "\n",
    "Vous avez malheureusement mélangé leurs clés. Votre objectif est de retrouvez quelle clé est à qui, ainsi que de déchiffrer les documents.\n",
    "\n",
    "La fonction suivante est à disposition:\n",
    "- func_dec_aes(file_path,password) : permet de déchiffrer un document à l'aide d'une clé, le résultat est directement affiché\n",
    "\n",
    "Les documents sont accessibles aux chemins suivants:\n",
    "- Fichiers/Symetrique/Alice.txt.enc\n",
    "- Fichiers/Symetrique/Bob.txt.enc\n",
    "- Fichiers/Symetrique/Marc.txt.enc\n",
    "\n",
    "Les clés mot de passe que vous avez sont les suivantes:\n",
    "- yL2{|iRo%NVTv4R@\n",
    "- mL1+VVy4H,Z5\n",
    "- mT7>Rev8aKH"
   ]
  },
  {
   "cell_type": "code",
   "execution_count": 18,
   "metadata": {},
   "outputs": [],
   "source": [
    "# Exercice 1\n",
    "# Variables\n",
    "path = 'Fichiers/Symetrique/...'\n",
    "password = '...'\n",
    "# Votre code\n",
    "\n",
    "\n"
   ]
  },
  {
   "cell_type": "code",
   "execution_count": 19,
   "metadata": {},
   "outputs": [
    {
     "data": {
      "application/vnd.jupyter.widget-view+json": {
       "model_id": "918f5b36164b4743a69509baecb3b8ee",
       "version_major": 2,
       "version_minor": 0
      },
      "text/plain": [
       "VBox(children=(Label(value='Séléctionnez la couleur préférée de chacun :'), Dropdown(description='Alice', opti…"
      ]
     },
     "metadata": {},
     "output_type": "display_data"
    }
   ],
   "source": [
    "# Exercice 1 - Réponse\n",
    "ef.pro_display_sym_1()"
   ]
  },
  {
   "cell_type": "code",
   "execution_count": 20,
   "metadata": {
    "scrolled": true
   },
   "outputs": [
    {
     "data": {
      "application/vnd.jupyter.widget-view+json": {
       "model_id": "97d600b759cd4b86b4c244dab5900c2b",
       "version_major": 2,
       "version_minor": 0
      },
      "text/plain": [
       "Button(button_style='info', description='Afficher la solution', style=ButtonStyle())"
      ]
     },
     "metadata": {},
     "output_type": "display_data"
    }
   ],
   "source": [
    "# Cliquer sur le bouton pour afficher la solution\n",
    "ef.pro_display_sym_soluce_1()"
   ]
  },
  {
   "cell_type": "markdown",
   "metadata": {},
   "source": [
    "## Exercice 2\n",
    "\n",
    "L'objectif de cet exercice est de vous faire tester les commandes Openssl. \n",
    "Trouvez la commande servant à **déchiffrer** un document.\n",
    "\n",
    "La commande servant à **déchiffrer** doit avoir les critères suivants:\n",
    "- Utiliser \"openssl enc\" \n",
    "- Utiliser de l'AES-256 en mode CBC\n",
    "- Utiliser la clé mot de passe:\n",
    "> eV4*S,8ZG@@\n",
    "\n",
    "Vous trouverez plus d'information sur la commande pour **déchiffrer** dans la documentation de Openssl:\n",
    "[Documentation de Openssl](https://www.openssl.org/docs/man1.1.1/man1/enc.html)\n",
    "\n",
    "---\n",
    "\n",
    "A l'aide de la fonction suivante executez la commande.\n",
    "- func_cmd_aes(commande): execute la commande en paramètre et retourne le résultat\n",
    "\n",
    "Vous devez trouver le contenu du fichier suivant.\n",
    "- Fichiers/Symetrique/Exercice2.txt.enc\n"
   ]
  },
  {
   "cell_type": "code",
   "execution_count": 21,
   "metadata": {},
   "outputs": [],
   "source": [
    "# Exercice 2\n",
    "# Votre code\n",
    "\n",
    "#commande = 'openssl enc ...'\n",
    "#ef.func_cmd_aes(commande)\n",
    "\n"
   ]
  },
  {
   "cell_type": "code",
   "execution_count": 22,
   "metadata": {},
   "outputs": [
    {
     "data": {
      "application/vnd.jupyter.widget-view+json": {
       "model_id": "0a6815d08f7447eea74c0e9bfdf3bf7a",
       "version_major": 2,
       "version_minor": 0
      },
      "text/plain": [
       "HBox(children=(Text(value='', layout=Layout(width='400px')), Button(button_style='info', description='Valider'…"
      ]
     },
     "metadata": {},
     "output_type": "display_data"
    }
   ],
   "source": [
    "# Entrez le contenu du document Exercice2.txt\n",
    "ef.pro_display_sym_2()"
   ]
  },
  {
   "cell_type": "code",
   "execution_count": 23,
   "metadata": {},
   "outputs": [
    {
     "data": {
      "application/vnd.jupyter.widget-view+json": {
       "model_id": "6454a9bbce614ae1abaadc91e5f4dd84",
       "version_major": 2,
       "version_minor": 0
      },
      "text/plain": [
       "Button(button_style='info', description='Afficher la solution', style=ButtonStyle())"
      ]
     },
     "metadata": {},
     "output_type": "display_data"
    }
   ],
   "source": [
    "# Cliquez pour afficher la solution\n",
    "ef.pro_display_sym_soluce_2()"
   ]
  }
 ],
 "metadata": {
  "kernelspec": {
   "display_name": "Python 3",
   "language": "python",
   "name": "python3"
  },
  "language_info": {
   "codemirror_mode": {
    "name": "ipython",
    "version": 3
   },
   "file_extension": ".py",
   "mimetype": "text/x-python",
   "name": "python",
   "nbconvert_exporter": "python",
   "pygments_lexer": "ipython3",
   "version": "3.7.10"
  }
 },
 "nbformat": 4,
 "nbformat_minor": 4
}
