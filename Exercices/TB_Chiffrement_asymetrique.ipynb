{
 "cells": [
  {
   "cell_type": "markdown",
   "metadata": {},
   "source": [
    "# Chiffrement asymétrique\n",
    "Le chiffrement asymétrique, également appelé chiffrement à clé publique, est un autre pilier de la cryptographie fonctionnant similairement au chiffrement symétrique.\n",
    "Cependant, contrairement au chiffrement symétrique, il repose sur l'utilisation d'une paire de clés distinctes :\n",
    "une clé publique pour le chiffrement et une clé privée pour le déchiffrement.\n",
    "Les données chiffrées avec la clé publique ne peuvent être déchiffrées qu'avec la clé privée correspondante, ce qui permet des communications sécurisées sans la nécessité de partager secrètement la clé. Le chiffrement asymétrique est utilisé dans nombreuses applications variées, de la sécurité des données, aux signatures numériques, tout en résolvant le défi de la distribution sécurisée des clés que le chiffrement symétrique pose.\n",
    "Cependant, malgré ses multiples avantages, le chiffrement asymétrique présente un inconvénient majeur en termes de performance. Le processus de chiffrement des données prend du temps.\n",
    "\n",
    "## Les Clés\n",
    "La génération de clés publique et privée repose sur plusieurs méthodes ayant toutes un point commun, les trapdoor function ou fonction à sens unique avec trappe. Ces fonctions ont un concept simple. Le but est de rendre simple A <span style=\"color:black; font-size:20px;\">&rarr;</span>\n",
    " B, mais que ce soit compliquer de retourner en arrière, B <span style=\"color:black; font-size:20px;\">&rarr;</span> A.\n",
    "Nous nous concentrerons sur deux des approches les plus courantes. La première méthode repose sur l'utilisation de nombres premiers. La seconde méthode s'appuie sur les courbes elliptiques.\n",
    "\n",
    "### RSA\n",
    "Les nombres premiers jouent un rôle important dans divers algorithmes de chiffrement, nous allons ici, nous concentrer sur le plus couramment utilisé, le RSA. La génération d'une paire de clés RSA commence par la sélection de deux nombres premiers distincts, notés **p** et **q**. Ces nombres premiers doivent satisfaire à certaines conditions particulières pour assurer la sécurité du système.\n",
    "\n",
    "Voici les étapes nécessaires à la génération des clés :\n",
    "#### Taille des nombres premiers\n",
    "Les nombres premiers p et q doivent être grands. Plus ils sont grands, plus le système de chiffrement est sécurisé, car il est plus difficile de factoriser le produit **p * q** en nombres premiers individuels. En pratique, ces nombres sont généralement des nombres premiers de centaines de chiffre, voire plus. Généralement avec le RSA, ces nombre sont de 2048 bits, mais peuvent aller jusqu’à 4096 bits pour une sécurité accrue.\n",
    "\n",
    "#### Génération aléatoire\n",
    "Les nombres premiers **p** et **q** doivent être choisis de manière aléatoire pour éviter toute prédictibilité. Une méthode courante est d'utiliser des générateurs de nombres aléatoires cryptographiquement sécurisés pour garantir que les nombres premiers sont imprévisibles.\n",
    "\n",
    "#### Vérification de la primalité\n",
    "Après avoir sélectionné **p** et **q**, il est essentiel de vérifier qu'ils sont effectivement des nombres premiers. Cela peut être fait en utilisant des tests de primalité, tels que le test de primalité de Fermat ou le test de primalité de Miller-Rabin. Si l'un des nombres n'est pas premier, il est nécessaire de recommencer le processus de sélection.\n",
    "\n",
    "#### Contrainte de distinction\n",
    "Il est impératif que les deux nombres premiers, **p** et **q**, soient distincts. Si **p = q**, cela compromettrait gravement la sécurité du chiffrement RSA, car il serait beaucoup plus facile de factoriser **n** (le produit **p * q**) en utilisant la même valeur pour **p** et **q**.\n",
    "\n",
    "\n",
    "## RSA - Chiffrement et déchiffrement des données\n",
    "Maintenant que nous avons vu comment des clés publiques et privées peuvent être générées. Nous allons regarder comment les utiliser. Pour cela, nous allons voir comment le chiffrement du RSA fonctionne en reprenant un exemple issu de Wikipédia.\n",
    "### Exemple\n",
    "Notre exemple commence avec Alice et Bob. Tout deux ont une clé publique et une clé privée. \n",
    "Bob souhaite envoyer un message à Alice.\n",
    "Pour cela, Bob va utiliser la clé publique de Alice, puis Alice va utiliser sa clé privée pour déchiffrer le message.\n",
    "Voici la formule utilisée dans le processus de chiffrement.\n",
    "\n",
    "$$\n",
    "c \\equiv m^{e} \\pmod{n}\n",
    "$$\n",
    "\n",
    "\n",
    "Et voici la formule utilisée dans le processus de déchiffrement.\n",
    "\n",
    "$$\n",
    "c^d \\equiv (m^{e})^d \\equiv m \\pmod{n}\n",
    "$$\n",
    "\n",
    "> **c** est le message chiffré.\n",
    "\n",
    "> **m** est le message en clair.\n",
    "\n",
    "> **e** est la première partie de la clé publique d'Alice, un nombre entier positif choisi au cours du processus de génération de clés. Il est déterminé à l'aide de la fonction de Carmichael (λ) pour assurer un fonctionnement correct de l'exposant de chiffrement et de déchiffrement RSA pour tous les entiers.\n",
    "\n",
    "> **n** est la seconde partie de la clé publique de Alice. Il s'agit d'un grand nombre entier qui est le produit de deux nombres premiers distincts, **p** et **q**.\n",
    "\n",
    "> **d** est une partie de la clé privée de Alice, l’exposant de déchiffrement. Il se calcule avec l’inverse modulaire de e.\n",
    "Génération de clés\n",
    "\n",
    "<br>\n",
    "<br>\n",
    "\n",
    "Commençons par la génération de nos clés et par choisir nos deux nombres premiers distincts, p et q.\n",
    "> **p=61**\t**q=53**\n",
    "\n",
    "Ensuite calculons le **n**.\n",
    "\n",
    "$$\n",
    "n = 61 \\times 53 = 3233\n",
    "$$\n",
    "\n",
    "Calculons le **e**, pour cela nous devons premièrement utiliser la fonction de Carmichael avec **n**, soit $λ(n)=ppmc(p−1,q−1)$.\n",
    "\n",
    "$$\n",
    "λ(n)= ppmc(60,52)=780\n",
    "$$\n",
    "\n",
    "Après cela nous devons choisir un nombre 1 < e < 780 qui soit coprime à 780. Choisir un nombre premier pour **e** nous permet d’uniquement vérifier que **e** ne soit pas un diviseur de 780.\n",
    "\n",
    "$e = 17$\n",
    "\n",
    "Pour finir cette partie, il nous faut calculer d, l’inverse modulaire de $e \\pmod{\\lambda(n)}\n",
    "$.\n",
    "\n",
    "Cela nous donne $d = 413$.\n",
    "\n",
    "Car \n",
    "$\n",
    "1 = (17 \\times 413) \\pmod{780}\n",
    "$\n",
    "\n",
    "Nous avons donc les clés de Alice.\n",
    "> Clé publique\t=\t(n = 3233, e = 17)\n",
    "\n",
    "> Clé privée\t=\t(n = 3233, d = 413)\n",
    "\n",
    "#### Chiffrement\n",
    "\n",
    "Pour le chiffrement il nous suffit de reprendre la formule $c \\equiv m^e \\pmod{n}\n",
    "$, et utiliser les clés générées.\n",
    "Bob souhaite donc envoyer à Alice, un message $m = 65$, dans notre exemple cela correspond à la lettre « **A** ».\n",
    "<br>\n",
    "Bob va donc utiliser la **clé publique de Alice (n = 3233, e = 17)**.\n",
    "\n",
    "Ce qui nous donne :\n",
    "\n",
    "$$\n",
    "c = 65^{17} \\mod 3233 = 2790\n",
    "$$\n",
    "\n",
    "#### Déchiffrement\n",
    "Pour le déchiffrement, nous reprenons la formule $\n",
    "c^d \\equiv (m^{e})^d \\equiv m \\pmod{n}\n",
    "$ et la **clé privée de Alice, (n = 3233, d = 413)**.\n",
    "\n",
    "Alice a reçu le message chiffré de Bob.\n",
    "\n",
    "$m = 2790$\n",
    "\n",
    "Pour le déchiffrer Alice va utiliser sa propre **clé privée (n = 3233, d = 413)**.\n",
    "\n",
    "$$\n",
    "m = 2790^{413} \\mod 3233 = 65\n",
    "$$\n",
    "\n",
    "Alice retrouve le message originel, en clair, **m = 65**, soit « **A** ».\n",
    "\n",
    "<br>\n",
    "<br>\n",
    "<br>"
   ]
  },
  {
   "cell_type": "code",
   "execution_count": 18,
   "metadata": {},
   "outputs": [],
   "source": [
    "import exercices_fonctions as ef"
   ]
  },
  {
   "cell_type": "markdown",
   "metadata": {},
   "source": [
    "## Démonstration\n",
    "Cette partie a pour but de montrer à quoi ressemble une clé publique et une clé privée, en RSA.\n",
    "Les fonctions utilisées vont générer une paire de clés, puis les afficher en clair."
   ]
  },
  {
   "cell_type": "code",
   "execution_count": 19,
   "metadata": {},
   "outputs": [
    {
     "data": {
      "application/vnd.jupyter.widget-view+json": {
       "model_id": "388fcd8c4a0647b2ab2ed1671a59aa1c",
       "version_major": 2,
       "version_minor": 0
      },
      "text/plain": [
       "Button(button_style='warning', description='Générer les clés', style=ButtonStyle())"
      ]
     },
     "metadata": {},
     "output_type": "display_data"
    }
   ],
   "source": [
    "# Cliquer sur le bouton pour générer une paire de clés RSA  \n",
    "ef.pro_display_asym_1()"
   ]
  },
  {
   "cell_type": "markdown",
   "metadata": {},
   "source": [
    "## Exercice 1\n",
    "\n",
    "L'objectif de cet exercice est de vous faire tester les commandes Openssl.\n",
    "Trouvez la commande servant à générer une clé privée RSA, puis trouvez la commande pour extraire la clé publique de votre clés privée.\n",
    "\n",
    "Vous trouverez plus d'information sur la génération de clés et leur traitement dans la documentation de Openssl:\n",
    "\n",
    "[Documentation - Génération de clés](https://www.openssl.org/docs/man3.1/man1/openssl-genpkey.html)\n",
    "\n",
    "[Documentation - Traitement des clés](https://www.openssl.org/docs/man3.0/man1/openssl-pkey.html)\n",
    "\n",
    "---\n",
    "\n",
    "A l'aide de la fonction suivante executez la commande.\n",
    "- func_cmd_generate_rsa(commande): execute la commande en paramètre pour générer une clé privée RSA et retourne le résultat.\n",
    "- func_cmd_extract_rsa(commande): execute la commande en paramètre pour extraire la clé publique d'une clés privée et retourne le résultat.\n",
    "\n",
    "\n",
    "Générez vos clés aux chemins suivants:\n",
    "- Clé privée -> Fichiers/Asymetrique/Exercice1.pem\n",
    "- Clé publique -> Fichiers/Asymetrique/Exercice1.pub\n"
   ]
  },
  {
   "cell_type": "code",
   "execution_count": 20,
   "metadata": {},
   "outputs": [],
   "source": [
    "# Exercice 1\n",
    "# Votre code\n",
    "# Générer la clé privée\n",
    "\n",
    "\n",
    "# Générer la clé publique"
   ]
  },
  {
   "cell_type": "code",
   "execution_count": 21,
   "metadata": {},
   "outputs": [
    {
     "data": {
      "application/vnd.jupyter.widget-view+json": {
       "model_id": "7bc3bf220c58406e8622093a009b8892",
       "version_major": 2,
       "version_minor": 0
      },
      "text/plain": [
       "Button(button_style='info', description='Afficher la solution', style=ButtonStyle())"
      ]
     },
     "metadata": {},
     "output_type": "display_data"
    }
   ],
   "source": [
    "# Cliquez sur le bouton pour afficher la solution\n",
    "ef.pro_display_asym_soluce_1()"
   ]
  },
  {
   "cell_type": "markdown",
   "metadata": {},
   "source": [
    "## Exercice 2\n",
    "L’objectif de cet exercice est de comprendre le fonctionnement des clés privées et publiques.\n",
    "\n",
    "Vous discutez avec Alice. Alice vous a envoyer un document chiffré avec votre clé publique. Utilisez votre clé privée afin de déchiffrer le message.\n",
    "\n",
    "Les fonctions mises à dispositions sont :\n",
    "- func_alice_msg_rsa(): permet de recevoir un message chiffré de la part de Alice\n",
    "- func_dec_rsa(path_in,key): permet de déchiffrer un fichier chiffré en RSA, avec une clé\n",
    "\n",
    "Vos clés publique et privées se trouvent aux chemins suivants:\n",
    "- Fichiers/Asymetrique/Exercice2_key.pub\n",
    "- Fichiers/Asymetrique/Exercice2_key.pem\n",
    "\n",
    "La clé publique de Alice se trouve à ce chemin:\n",
    "- Fichiers/Asymetrique/Exercice2_alice_key.pub"
   ]
  },
  {
   "cell_type": "code",
   "execution_count": 22,
   "metadata": {},
   "outputs": [],
   "source": [
    "# Exercice 2\n",
    "## Variables\n",
    "\n",
    "\n",
    "# Votre code\n",
    "\n"
   ]
  },
  {
   "cell_type": "code",
   "execution_count": 23,
   "metadata": {
    "scrolled": true
   },
   "outputs": [
    {
     "data": {
      "application/vnd.jupyter.widget-view+json": {
       "model_id": "28e09be82d5449298f6c66929c3835ca",
       "version_major": 2,
       "version_minor": 0
      },
      "text/plain": [
       "Button(button_style='info', description='Afficher la solution', style=ButtonStyle())"
      ]
     },
     "metadata": {},
     "output_type": "display_data"
    }
   ],
   "source": [
    "# Cliquez sur le bouton pour afficher la solution\n",
    "ef.pro_display_asym_soluce_2()"
   ]
  },
  {
   "cell_type": "markdown",
   "metadata": {},
   "source": [
    "## Exercice 3\n",
    "\n",
    "L'objectif de cet exercice est de vous faire tester les commandes Openssl.\n",
    "Trouvez les commandes servant à chiffrer et déchiffrer un fichier à l'aide d'une clé publique RSA.\n",
    "\n",
    "Vous trouverez plus d'information sur la manière de chiffrer et déchiffrer en RSA dans la documentation de Openssl:\n",
    "\n",
    "[Documentation de Openssl](https://www.openssl.org/docs/man3.0/man1/openssl-pkeyutl.html)\n",
    "\n",
    "***\n",
    "\n",
    "A l'aide de la fonction suivante executez la commande.\n",
    "- func_cmd_enc_rsa(commande): execute la commande en paramètre pour chiffrer un document à l'aide clé privée RSA et retourne le résultat.\n",
    "- func_cmd_dec_rsa(commande): execute la commande en paramètre pour déchiffrer un document à l'aide clé privée RSA et retourne le résultat.\n",
    "---\n",
    "Voici votre clés privée et votre clé publique:\n",
    "- Fichiers/Asymetrique/Exercice3_key.pem\n",
    "- Fichiers/Asymetrique/Exercice3_key.pub\n",
    "\n",
    "Voici la clé privée de Alice\n",
    "- Fichiers/Asymetrique/Exercice3_Alice_key.pem\n",
    "---\n",
    "Chiffrez le document suivant avec votre clé publique pour produire un fichier .enc\n",
    "- Fichiers/Asymetrique/Exercice3_document.txt <span style=\"color:black; font-size:20px;\">&rarr;</span>  Fichiers/Asymetrique/Exercice3_document.txt.enc\n",
    "---\n",
    "Essayez ensuite de déchiffrer le fichier .enc avec la clé privée de Alice, puis avec votre clé privée.\n",
    "<br>\n",
    "<br>\n",
    "<br>"
   ]
  },
  {
   "cell_type": "code",
   "execution_count": 24,
   "metadata": {},
   "outputs": [],
   "source": [
    "# Exercice 3\n",
    "# Variables / Commandes\n",
    "\n",
    "# Votre code\n",
    "\n",
    "\n"
   ]
  },
  {
   "cell_type": "code",
   "execution_count": 25,
   "metadata": {},
   "outputs": [
    {
     "data": {
      "application/vnd.jupyter.widget-view+json": {
       "model_id": "b693c20f3b2149eeb5ac81e7c08696d5",
       "version_major": 2,
       "version_minor": 0
      },
      "text/plain": [
       "Button(button_style='info', description='Afficher la solution', style=ButtonStyle())"
      ]
     },
     "metadata": {},
     "output_type": "display_data"
    }
   ],
   "source": [
    "# CLiquez pour afficher la solution\n",
    "ef.pro_display_asym_soluce_3()"
   ]
  }
 ],
 "metadata": {
  "kernelspec": {
   "display_name": "SageMath 9.3",
   "language": "sage",
   "name": "sagemath"
  }
 },
 "nbformat": 4,
 "nbformat_minor": 4
}
