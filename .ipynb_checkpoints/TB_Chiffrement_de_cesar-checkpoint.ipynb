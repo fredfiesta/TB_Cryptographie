{
 "cells": [
  {
   "cell_type": "markdown",
   "metadata": {},
   "source": [
    "# Chiffrement de César\n",
    "\n",
    "Le chiffre de César ou chiffrement par décalage est une technique élémentaire de chiffrement par substitution. Inventé par Jules César, il a été utilisé dans l'Antiquité pour protéger des messages militaires confidentiels. Dans ce chiffrement, chaque lettre du message est décalée d'un certain nombre de positions dans l'alphabet.\n",
    "De nos jours, il n’est plus utilisé pour protéger les messages, mais permet cependant d’introduire les notions de base de la cryptographie.\n",
    "\n",
    "## Le fonctionnement\n",
    "Le chiffre de César fonctionne en substituant chaque lettre d'un message par une autre lettre décalée d'un nombre fixe de positions dans l'alphabet. Par exemple, avec un décalage de 3, la lettre \"A\" serait remplacée par \"D\", \"B\" par \"E\", et ainsi de suite. Ce processus de substitution est appliqué à chaque lettre du message, ce qui transforme le texte d'origine en un texte chiffré.\n",
    "<img src=\"images/cesar.png\" width=\"500\" height=\"300\">"
   ]
  },
  {
   "cell_type": "code",
   "execution_count": 2,
   "metadata": {
    "vscode": {
     "languageId": "python"
    }
   },
   "outputs": [],
   "source": [
    "import soluce_cesar as soluce\n",
    "file_path = \"phrases.txt\"\n",
    "# teste = soluce.shuffle_phrase(file_path)\n",
    "# print(teste)"
   ]
  },
  {
   "cell_type": "markdown",
   "metadata": {},
   "source": [
    "## Exercice 1"
   ]
  },
  {
   "cell_type": "markdown",
   "metadata": {},
   "source": [
    "L'objectif de cet exercice est de chiffrer votre texte avec le chiffrement de César.\n",
    "Pour cela vous avez à disposition les fonctions suivantes :\n",
    "- shuffle_phrase(file_path) : permet de tirer au sort une phrase dans un fichier texte\n",
    "- func_cesar_enc(txt, cle) : permet de chiffrer un texte avec le chiffrement de César\n",
    "- func_cesar_dec(txt, cle) : permet de déchiffrer un texte avec le chiffrement de César\n",
    "- func_cesar_random_int()  : permet de tirer au sort un nombre entier entre 1 et 25\n",
    "\n",
    "Avec les fonctions fournies, encryptez votre texte avec le chiffrement de César.\n"
   ]
  },
  {
   "cell_type": "code",
   "execution_count": 3,
   "metadata": {
    "vscode": {
     "languageId": "python"
    }
   },
   "outputs": [
    {
     "name": "stdout",
     "output_type": "stream",
     "text": [
      "LES CHARS ATTAQUENT A L AUBE\n",
      "6\n",
      "RKY INGXY GZZGWAKTZ G R GAHK\n"
     ]
    }
   ],
   "source": [
    "## Choisir une phrase au hasard (ou non)\n",
    "texte = soluce.shuffle_phrase(file_path)\n",
    "print(texte)\n",
    "\n",
    "## Choisir une Clé\n",
    "cle = soluce.func_cesar_random_int()\n",
    "print(cle)\n",
    "\n",
    "## Chiffrement de la phrase avec la clé\n",
    "texte_chiffre = soluce.func_cesar_enc(texte, cle)\n",
    "print(texte_chiffre)"
   ]
  },
  {
   "cell_type": "markdown",
   "metadata": {},
   "source": [
    "## Exercice 2"
   ]
  },
  {
   "cell_type": "markdown",
   "metadata": {},
   "source": [
    "Cet exercice a pour but de montrer comment un message encodé peut être décodé.\n",
    "Pour cela vous avez à disposition les fonctions suivantes :\n",
    "- shuffle_phrase(file_path) : qui permet de tirer au sort une phrase dans un fichier texte\n",
    "- func_cesar_enc(txt, cle) : qui permet de chiffrer un texte avec le chiffrement de César\n",
    "- func_cesar_dec(txt, cle) : qui permet de déchiffrer un texte avec le chiffrement de César\n",
    "- func_cesar_random_int()  : qui permet de tirer au sort un nombre entier entre 1 et 25\n",
    "\n",
    "Avec les fonctions fournies, déchiffrez le texte suivant : \"CR KIZJKVJJV VK CR GVLI CVLI VKRZVEK ZETFEELVJ\" avec le chiffrement de César.\n",
    "La phrase a été chiffrée avec un décalage de 17, trouvez le texte d'origine.\n"
   ]
  },
  {
   "cell_type": "code",
   "execution_count": 4,
   "metadata": {
    "vscode": {
     "languageId": "python"
    }
   },
   "outputs": [
    {
     "name": "stdout",
     "output_type": "stream",
     "text": [
      "LA TRISTESSE ET LA PEUR LEUR ETAIENT INCONNUES\n"
     ]
    }
   ],
   "source": [
    "print(soluce.func_cesar_dec(\"CR KIZJKVJJV VK CR GVLI CVLI VKRZVEK ZETFEELVJ\", 17))"
   ]
  },
  {
   "cell_type": "markdown",
   "metadata": {},
   "source": [
    "## Exercice 3"
   ]
  },
  {
   "cell_type": "markdown",
   "metadata": {},
   "source": [
    "Dans cet exercice vous devez trouver la clé qui a été utilisée pour encoder les messages, parmis les 26 décalages présentés.\n",
    "\n",
    "Trouvez la clé qui a été utilisée pour encoder le message."
   ]
  },
  {
   "cell_type": "code",
   "execution_count": 5,
   "metadata": {
    "vscode": {
     "languageId": "python"
    }
   },
   "outputs": [
    {
     "name": "stdout",
     "output_type": "stream",
     "text": [
      "SL JOPLU KL YVILYA  -> clé : 0\n",
      "RK INOKT JK XUHKXZ  -> clé : 1\n",
      "QJ HMNJS IJ WTGJWY  -> clé : 2\n",
      "PI GLMIR HI VSFIVX  -> clé : 3\n",
      "OH FKLHQ GH UREHUW  -> clé : 4\n",
      "NG EJKGP FG TQDGTV  -> clé : 5\n",
      "MF DIJFO EF SPCFSU  -> clé : 6\n",
      "LE CHIEN DE ROBERT  -> clé : 7\n",
      "KD BGHDM CD QNADQS  -> clé : 8\n",
      "JC AFGCL BC PMZCPR  -> clé : 9\n",
      "IB ZEFBK AB OLYBOQ  -> clé : 10\n",
      "HA YDEAJ ZA NKXANP  -> clé : 11\n",
      "GZ XCDZI YZ MJWZMO  -> clé : 12\n",
      "FY WBCYH XY LIVYLN  -> clé : 13\n",
      "EX VABXG WX KHUXKM  -> clé : 14\n",
      "DW UZAWF VW JGTWJL  -> clé : 15\n",
      "CV TYZVE UV IFSVIK  -> clé : 16\n",
      "BU SXYUD TU HERUHJ  -> clé : 17\n",
      "AT RWXTC ST GDQTGI  -> clé : 18\n",
      "ZS QVWSB RS FCPSFH  -> clé : 19\n",
      "YR PUVRA QR EBOREG  -> clé : 20\n",
      "XQ OTUQZ PQ DANQDF  -> clé : 21\n",
      "WP NSTPY OP CZMPCE  -> clé : 22\n",
      "VO MRSOX NO BYLOBD  -> clé : 23\n",
      "UN LQRNW MN AXKNAC  -> clé : 24\n",
      "TM KPQMV LM ZWJMZB  -> clé : 25\n"
     ]
    }
   ],
   "source": [
    "txt = soluce.shuffle_phrase(file_path)\n",
    "txt_enc = soluce.func_cesar_enc(txt, soluce.func_cesar_random_int())\n",
    "\n",
    "for i in range(26):\n",
    "    dc = soluce.func_cesar_dec(txt_enc,i)\n",
    "    print(dc, \" -> clé :\",i)"
   ]
  },
  {
   "cell_type": "code",
   "execution_count": null,
   "metadata": {},
   "outputs": [],
   "source": []
  }
 ],
 "metadata": {
  "celltoolbar": "Tags",
  "kernelspec": {
   "display_name": "SageMath 9.3",
   "language": "sage",
   "name": "sagemath"
  },
  "language_info": {
   "codemirror_mode": {
    "name": "ipython",
    "version": 3
   },
   "file_extension": ".py",
   "mimetype": "text/x-python",
   "name": "python",
   "nbconvert_exporter": "python",
   "pygments_lexer": "ipython3",
   "version": "3.7.10"
  }
 },
 "nbformat": 4,
 "nbformat_minor": 4
}
