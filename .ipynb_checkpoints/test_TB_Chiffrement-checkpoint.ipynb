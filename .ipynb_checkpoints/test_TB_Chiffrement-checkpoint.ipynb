{
 "cells": [
  {
   "cell_type": "markdown",
   "metadata": {},
   "source": [
    "# Exercices Chiffrement"
   ]
  },
  {
   "cell_type": "markdown",
   "metadata": {},
   "source": [
    "# Chiffrement de César"
   ]
  },
  {
   "cell_type": "markdown",
   "metadata": {},
   "source": [
    "Le chiffre de César ou chiffrement par décalage est une technique élémentaire de chiffrement par substitution. Inventé par Jules César, il a été utilisé dans l'Antiquité pour protéger des messages militaires confidentiels. Dans ce chiffrement, chaque lettre du message est décalée d'un certain nombre de positions dans l'alphabet.\n",
    "De nos jours, il n’est plus utilisé pour protéger les messages, mais permet cependant d’introduire les notions de base de la cryptographie.\n",
    "\n",
    "#### Le fonctionnement\n",
    "Le chiffre de César fonctionne en substituant chaque lettre d'un message par une autre lettre décalée d'un nombre fixe de positions dans l'alphabet. Par exemple, avec un décalage de 3, la lettre \"A\" serait remplacée par \"D\", \"B\" par \"E\", et ainsi de suite. Ce processus de substitution est appliqué à chaque lettre du message, ce qui transforme le texte d'origine en un texte chiffré."
   ]
  },
  {
   "cell_type": "markdown",
   "metadata": {},
   "source": [
    "<img src=\"images/cesar.png\" width=\"500\" height=\"300\">"
   ]
  },
  {
   "cell_type": "code",
   "execution_count": 1,
   "metadata": {},
   "outputs": [],
   "source": [
    "import soluce as soluce\n",
    "file_path = \"phrases.txt\"\n",
    "# teste = soluce.shuffle_phrase(file_path)\n",
    "# print(teste)"
   ]
  },
  {
   "cell_type": "markdown",
   "metadata": {},
   "source": [
    "## Exercice 1"
   ]
  },
  {
   "cell_type": "markdown",
   "metadata": {},
   "source": [
    "L'objectif de cet exercice est de chiffrer votre texte avec le chiffrement de César.\n",
    "Pour cela vous avez à disposition les fonctions suivantes :\n",
    "- shuffle_phrase(file_path) : qui permet de tirer au sort une phrase dans un fichier texte\n",
    "- func_cesar_enc(txt, cle) : qui permet de chiffrer un texte avec le chiffrement de César\n",
    "- func_cesar_dec(txt, cle) : qui permet de déchiffrer un texte avec le chiffrement de César\n",
    "- func_cesar_random_int()  : qui permet de tirer au sort un nombre entier entre 1 et 25\n",
    "\n",
    "Avec les fonctions fournies, encryptez votre texte avec le chiffrement de César.\n"
   ]
  },
  {
   "cell_type": "code",
   "execution_count": 2,
   "metadata": {},
   "outputs": [
    {
     "name": "stdout",
     "output_type": "stream",
     "text": [
      "Comment occupez-vous vos loisirs ? \n",
      "1\n",
      "DPNNFOU PDDVQFAHWPVT WPT MPJTJST Z \n"
     ]
    }
   ],
   "source": [
    "## Choisir une phrase au hasard (ou non)\n",
    "texte = soluce.shuffle_phrase(file_path)\n",
    "print(texte)\n",
    "\n",
    "## Choisir une Clé\n",
    "cle = soluce.func_cesar_random_int()\n",
    "print(cle)\n",
    "\n",
    "## Chiffrement de la phrase avec la clé\n",
    "texte_chiffre = soluce.func_cesar_enc(texte, cle)\n",
    "print(texte_chiffre)"
   ]
  },
  {
   "cell_type": "markdown",
   "metadata": {},
   "source": [
    "## Exercice 2"
   ]
  },
  {
   "cell_type": "markdown",
   "metadata": {},
   "source": [
    "Cet exercice a pour but de montrer comment un message encodé peut être décodé.\n",
    "Pour cela vous avez à disposition les fonctions suivantes :\n",
    "- shuffle_phrase(file_path) : qui permet de tirer au sort une phrase dans un fichier texte\n",
    "- func_cesar_enc(txt, cle) : qui permet de chiffrer un texte avec le chiffrement de César\n",
    "- func_cesar_dec(txt, cle) : qui permet de déchiffrer un texte avec le chiffrement de César\n",
    "- func_cesar_random_int()  : qui permet de tirer au sort un nombre entier entre 1 et 25\n",
    "\n",
    "Avec les fonctions fournies, déchiffrez le texte suivant : \"QEB NRFZH YOLTK CLU GRJMP LSBO QEB IXWV ALD\" avec le chiffrement de César.\n"
   ]
  },
  {
   "cell_type": "code",
   "execution_count": 5,
   "metadata": {
    "scrolled": true
   },
   "outputs": [
    {
     "ename": "SyntaxError",
     "evalue": "invalid syntax (<ipython-input-5-cf341c8e54d7>, line 2)",
     "output_type": "error",
     "traceback": [
      "\u001b[0;36m  File \u001b[0;32m\"<ipython-input-5-cf341c8e54d7>\"\u001b[0;36m, line \u001b[0;32m2\u001b[0m\n\u001b[0;31m    for (i=Integer(1);i>=Integer(25),i++):\u001b[0m\n\u001b[0m          ^\u001b[0m\n\u001b[0;31mSyntaxError\u001b[0m\u001b[0;31m:\u001b[0m invalid syntax\n"
     ]
    }
   ],
   "source": [
    "txt = \"QEB NRFZH YOLTK CLU GRJMP LSBO QEB IXWV ALD\"\n",
    "for (i=1;i>=25,i++):\n",
    "    soluce.func_cesar_dec(txt,i)"
   ]
  },
  {
   "cell_type": "markdown",
   "metadata": {},
   "source": [
    "## Exercice 3"
   ]
  },
  {
   "cell_type": "markdown",
   "metadata": {},
   "source": [
    "Dans cet exercice vous devez trouver la clé qui a été utilisée pour encoder les messages, parmis les 26 décalages présentés."
   ]
  },
  {
   "cell_type": "code",
   "execution_count": null,
   "metadata": {},
   "outputs": [],
   "source": []
  }
 ],
 "metadata": {
  "celltoolbar": "Tags",
  "kernelspec": {
   "display_name": "SageMath 9.3",
   "language": "sage",
   "name": "sagemath"
  },
  "language_info": {
   "codemirror_mode": {
    "name": "ipython",
    "version": 3
   },
   "file_extension": ".py",
   "mimetype": "text/x-python",
   "name": "python",
   "nbconvert_exporter": "python",
   "pygments_lexer": "ipython3",
   "version": "3.7.10"
  }
 },
 "nbformat": 4,
 "nbformat_minor": 4
}
