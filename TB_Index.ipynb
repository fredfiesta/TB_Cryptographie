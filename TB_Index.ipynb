{
 "cells": [
  {
   "cell_type": "markdown",
   "metadata": {},
   "source": [
    "# Introduction pratique à la cryptographie : Techniques de chiffrement, outils illustrés sur Jupyter Notebook.\n",
    "\n",
    "## Contexte\n",
    "Ce travail vise les étudiants en informatique et toute personne désireuse d'apprendre les bases de la cryptographie. Il offre des connaissances pratiques et des outils concrets pour maîtriser les techniques de chiffrement. En sensibilisant à l'importance de la cryptographie au quotidien, nous préparons chacun à relever les défis de sécurité rencontrés dans nos environnements numériques.\n",
    "\n",
    "L'ordre des exercices est défini par la difficulté et la pertinence du sujet. Il est recommandé de commencer par le Chiffrement de César pour comprendre les bases de la cryptographie.\n",
    "\n",
    "## Table des matières\n",
    "\n",
    "### [Chiffrement de César](Exercices/TB_Chiffrement_de_Cesar.ipynb)\n",
    "### [Chiffrement de Vigenère](Exercices/TB_Chiffrement_de_Vigenere.ipynb)\n",
    "### [Encodage Base64](Exercices/TB_Base64.ipynb)\n",
    "### [Hachage MD5](Exercices/TB_Hachage.ipynb)\n",
    "### [Chiffrement par bloc ECB - CBC](Exercices/TB_Chiffrement_par_bloc.ipynb)\n",
    "### [Chiffrement symetrique AES](Exercices/TB_Chiffrement_symetrique.ipynb)\n",
    "### [Chiffrement asymetrique RSA](Exercices/TB_Chiffrement_asymetrique.ipynb)\n",
    "\n"
   ]
  }
 ],
 "metadata": {
  "kernelspec": {
   "display_name": "SageMath 9.3",
   "language": "sage",
   "name": "sagemath"
  },
  "language_info": {
   "codemirror_mode": {
    "name": "ipython",
    "version": 3
   },
   "file_extension": ".py",
   "mimetype": "text/x-python",
   "name": "python",
   "nbconvert_exporter": "python",
   "pygments_lexer": "ipython3",
   "version": "3.7.10"
  }
 },
 "nbformat": 4,
 "nbformat_minor": 4
}
